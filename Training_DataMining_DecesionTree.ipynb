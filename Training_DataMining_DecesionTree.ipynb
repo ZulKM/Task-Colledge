{
  "nbformat": 4,
  "nbformat_minor": 0,
  "metadata": {
    "colab": {
      "name": "Latihan_Data_mining_dengan_metode_decesion_tree",
      "provenance": [],
      "collapsed_sections": [],
      "toc_visible": true,
      "include_colab_link": true
    },
    "kernelspec": {
      "display_name": "Python 3",
      "name": "python3"
    }
  },
  "cells": [
    {
      "cell_type": "markdown",
      "metadata": {
        "id": "view-in-github",
        "colab_type": "text"
      },
      "source": [
        "<a href=\"https://colab.research.google.com/github/ZulKM/Task-Colledge/blob/main/Training_DataMining_DecesionTree.ipynb\" target=\"_parent\"><img src=\"https://colab.research.google.com/assets/colab-badge.svg\" alt=\"Open In Colab\"/></a>"
      ]
    },
    {
      "cell_type": "code",
      "metadata": {
        "id": "F95RFRglK04-"
      },
      "source": [
        "#import library\n",
        "import numpy as np\n",
        "import pandas as pd\n",
        "from sklearn import tree"
      ],
      "execution_count": 8,
      "outputs": []
    },
    {
      "cell_type": "code",
      "metadata": {
        "id": "KoTM2C2qK9h7"
      },
      "source": [
        "#membaca dataset file csv \n",
        "AnggurDataSet = pd.read_csv('kualitasanggur.csv',delimiter=',', header =0)\n",
        "#Mengubah kelas kolom \"quality\" dari String ke Unique-Integer\n",
        "AnggurDataSet[\"quality\"] = pd.factorize(AnggurDataSet.quality)[0]"
      ],
      "execution_count": 9,
      "outputs": []
    },
    {
      "cell_type": "code",
      "metadata": {
        "id": "0OleSILxRQuE"
      },
      "source": [
        "#mengubah dataframe ke array numpy\n",
        "#AnggurDataSet = AnggurDataSet.as_matrix()\n",
        "AnggurDataSet = AnggurDataSet.to_numpy()"
      ],
      "execution_count": 10,
      "outputs": []
    },
    {
      "cell_type": "code",
      "metadata": {
        "colab": {
          "base_uri": "https://localhost:8080/"
        },
        "id": "I7h1Vy5bR93c",
        "outputId": "4c716c3a-1edc-429a-a44b-694efab48ec1"
      },
      "source": [
        "print(AnggurDataSet)"
      ],
      "execution_count": 11,
      "outputs": [
        {
          "output_type": "stream",
          "text": [
            "[[1.   0.1  0.   1.9  0.  ]\n",
            " [1.8  0.88 0.   2.1  0.  ]\n",
            " [1.8  0.11 0.   2.3  0.  ]\n",
            " ...\n",
            " [1.3  0.01 0.13 2.3  1.  ]\n",
            " [0.9  0.1  0.12 2.   0.  ]\n",
            " [1.   0.31 0.01 3.1  1.  ]]\n"
          ],
          "name": "stdout"
        }
      ]
    },
    {
      "cell_type": "code",
      "metadata": {
        "id": "QZG8_TEMT3Hj"
      },
      "source": [
        "#membagi dataset, 40 baris data untuk training\n",
        "#dan baris data untuk testing\n",
        "\n",
        "dataTraining = np.concatenate((AnggurDataSet[0:200,:],\n",
        "                              AnggurDataSet[201:400,:]),axis = 0)\n",
        "dataTesting = np.concatenate((AnggurDataSet[401:600,:],\n",
        "                              AnggurDataSet[601:800,:]),axis = 0)"
      ],
      "execution_count": 12,
      "outputs": []
    },
    {
      "cell_type": "code",
      "metadata": {
        "id": "N6GRgH9FUNd8"
      },
      "source": [
        "#memcahkan dataset imput ke label\n",
        "inputTraining = dataTraining[:,0:4]\n",
        "inputTesting = dataTesting[:,0:4]\n",
        "labelTraining = dataTraining[:,4]\n",
        "labelTesting = dataTesting[:,4]"
      ],
      "execution_count": 13,
      "outputs": []
    },
    {
      "cell_type": "code",
      "metadata": {
        "colab": {
          "base_uri": "https://localhost:8080/"
        },
        "id": "D6AZFlB8URor",
        "outputId": "6612b21a-36fa-462e-cac7-8e99d900a118"
      },
      "source": [
        "#mendfinisikan decesion tree clasifier\n",
        "model = tree.DecisionTreeClassifier()\n",
        "#mentrail model\n",
        "model = model.fit(inputTraining, labelTraining)\n",
        "#memprediksikan imput data testing\n",
        "hasilPrediksi = model.predict(inputTesting)\n",
        "print(\"label sebenarnya\",labelTesting)\n",
        "print(\"hasil prediksi: \",hasilPrediksi)\n",
        "#menghitung akurasi\n",
        "prediksiBenar = (hasilPrediksi == labelTesting).sum()\n",
        "prediksiSalah = (hasilPrediksi != labelTesting).sum()\n",
        "print(\"Prediksi benar:\",prediksiBenar,\"data\")\n",
        "print(\"Prediksi salah:\",prediksiSalah,\"data\")\n",
        "print(\"akurasi: \",prediksiBenar/(prediksiBenar+prediksiSalah)*100,\"%\")"
      ],
      "execution_count": 14,
      "outputs": [
        {
          "output_type": "stream",
          "text": [
            "label sebenarnya [1. 1. 1. 0. 1. 1. 1. 1. 0. 1. 0. 0. 1. 0. 0. 1. 0. 1. 0. 1. 1. 0. 1. 0.\n",
            " 1. 1. 1. 0. 1. 1. 0. 1. 0. 1. 0. 1. 1. 1. 0. 2. 1. 1. 1. 1. 1. 0. 0. 1.\n",
            " 1. 1. 1. 1. 1. 0. 2. 0. 0. 1. 3. 1. 0. 0. 0. 1. 0. 1. 1. 1. 0. 0. 1. 1.\n",
            " 0. 1. 0. 0. 1. 0. 1. 0. 2. 0. 0. 1. 0. 0. 1. 1. 1. 1. 1. 1. 1. 1. 2. 1.\n",
            " 0. 2. 1. 1. 1. 1. 1. 1. 1. 1. 1. 1. 1. 0. 1. 1. 1. 1. 0. 1. 3. 1. 0. 1.\n",
            " 0. 0. 0. 0. 0. 0. 1. 1. 0. 1. 0. 0. 1. 1. 1. 0. 1. 1. 0. 0. 1. 0. 1. 1.\n",
            " 0. 1. 1. 1. 1. 1. 1. 1. 0. 0. 0. 1. 0. 1. 1. 0. 0. 0. 1. 1. 0. 1. 1. 1.\n",
            " 1. 1. 1. 0. 0. 1. 1. 0. 0. 0. 1. 0. 0. 0. 1. 1. 1. 1. 0. 2. 1. 0. 1. 0.\n",
            " 0. 0. 0. 1. 1. 1. 1. 1. 0. 1. 1. 1. 1. 1. 1. 1. 0. 0. 1. 0. 1. 0. 0. 1.\n",
            " 0. 0. 0. 0. 0. 1. 0. 0. 0. 0. 1. 0. 1. 0. 1. 0. 0. 0. 0. 0. 1. 1. 0. 0.\n",
            " 0. 0. 0. 1. 0. 0. 1. 1. 0. 0. 0. 1. 0. 0. 0. 1. 1. 0. 1. 0. 1. 1. 0. 0.\n",
            " 1. 1. 0. 1. 0. 0. 0. 0. 1. 0. 1. 0. 0. 0. 0. 1. 0. 0. 0. 0. 0. 0. 0. 0.\n",
            " 3. 0. 0. 0. 0. 1. 1. 1. 0. 1. 1. 1. 1. 0. 0. 0. 0. 0. 1. 1. 0. 0. 0. 0.\n",
            " 0. 1. 0. 0. 0. 0. 0. 0. 0. 0. 0. 0. 1. 0. 0. 1. 0. 0. 0. 0. 0. 0. 0. 1.\n",
            " 0. 0. 1. 0. 0. 0. 0. 1. 1. 0. 1. 1. 0. 0. 0. 0. 1. 1. 1. 0. 0. 0. 0. 0.\n",
            " 1. 0. 1. 1. 0. 0. 1. 0. 1. 0. 0. 1. 1. 0. 1. 1. 0. 0. 1. 0. 0. 0. 0. 0.\n",
            " 0. 1. 1. 0. 1. 0. 1. 0. 1. 0. 0. 1. 1. 1.]\n",
            "hasil prediksi:  [0. 1. 1. 0. 1. 0. 1. 0. 0. 1. 1. 1. 1. 1. 0. 1. 0. 1. 0. 1. 0. 0. 1. 0.\n",
            " 0. 0. 1. 0. 1. 1. 1. 0. 0. 1. 0. 0. 1. 1. 0. 0. 1. 1. 1. 0. 0. 1. 1. 1.\n",
            " 1. 1. 0. 0. 1. 1. 1. 1. 0. 1. 0. 1. 0. 1. 0. 1. 1. 1. 1. 1. 0. 1. 1. 1.\n",
            " 1. 1. 0. 0. 1. 0. 0. 0. 2. 0. 0. 0. 0. 0. 0. 1. 0. 1. 1. 1. 0. 1. 1. 0.\n",
            " 1. 1. 0. 0. 0. 0. 1. 0. 1. 1. 1. 0. 1. 0. 0. 1. 1. 1. 0. 1. 1. 1. 0. 0.\n",
            " 1. 0. 1. 1. 1. 0. 0. 0. 0. 0. 1. 1. 1. 1. 0. 0. 0. 1. 1. 0. 1. 0. 1. 1.\n",
            " 0. 0. 1. 1. 1. 1. 1. 0. 1. 1. 1. 0. 1. 0. 0. 1. 1. 1. 0. 0. 1. 1. 1. 0.\n",
            " 0. 1. 0. 1. 1. 1. 1. 0. 1. 1. 0. 1. 1. 0. 1. 1. 0. 1. 1. 0. 1. 0. 0. 0.\n",
            " 1. 0. 0. 1. 0. 0. 1. 0. 0. 0. 1. 0. 1. 0. 0. 1. 0. 1. 0. 1. 0. 1. 1. 1.\n",
            " 1. 1. 0. 0. 1. 1. 1. 1. 1. 1. 1. 0. 1. 1. 0. 1. 1. 0. 1. 0. 1. 1. 0. 1.\n",
            " 0. 1. 0. 0. 1. 1. 0. 0. 0. 1. 1. 1. 1. 1. 0. 1. 1. 0. 1. 1. 1. 1. 1. 1.\n",
            " 0. 1. 1. 1. 1. 0. 1. 0. 0. 1. 0. 0. 0. 1. 0. 0. 1. 0. 1. 0. 0. 0. 0. 1.\n",
            " 0. 0. 0. 1. 1. 0. 1. 1. 0. 1. 0. 1. 1. 0. 0. 0. 0. 1. 1. 1. 0. 0. 2. 1.\n",
            " 1. 0. 1. 0. 1. 0. 1. 1. 0. 0. 1. 0. 1. 0. 0. 1. 0. 0. 0. 1. 0. 0. 0. 1.\n",
            " 1. 0. 0. 0. 0. 1. 1. 0. 1. 1. 0. 0. 1. 1. 0. 1. 0. 0. 0. 1. 1. 1. 1. 1.\n",
            " 1. 1. 1. 0. 1. 1. 1. 0. 1. 0. 0. 0. 0. 0. 0. 0. 0. 0. 0. 1. 0. 1. 1. 1.\n",
            " 1. 1. 1. 1. 0. 1. 0. 1. 1. 0. 1. 1. 0. 0.]\n",
            "Prediksi benar: 203 data\n",
            "Prediksi salah: 195 data\n",
            "akurasi:  51.005025125628144 %\n"
          ],
          "name": "stdout"
        }
      ]
    }
  ]
}