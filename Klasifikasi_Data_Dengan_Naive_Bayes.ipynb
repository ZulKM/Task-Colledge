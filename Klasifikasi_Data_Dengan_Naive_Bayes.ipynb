{
  "nbformat": 4,
  "nbformat_minor": 0,
  "metadata": {
    "colab": {
      "name": "Klasifikasi Data Dengan Naive Bayes.ipynb",
      "provenance": [],
      "collapsed_sections": [],
      "toc_visible": true,
      "include_colab_link": true
    },
    "kernelspec": {
      "display_name": "Python 3",
      "name": "python3"
    }
  },
  "cells": [
    {
      "cell_type": "markdown",
      "metadata": {
        "id": "view-in-github",
        "colab_type": "text"
      },
      "source": [
        "<a href=\"https://colab.research.google.com/github/ZulKM/Task-Colledge/blob/main/Klasifikasi_Data_Dengan_Naive_Bayes.ipynb\" target=\"_parent\"><img src=\"https://colab.research.google.com/assets/colab-badge.svg\" alt=\"Open In Colab\"/></a>"
      ]
    },
    {
      "cell_type": "code",
      "metadata": {
        "id": "1ztRiv7JC9CA"
      },
      "source": [
        "import numpy as np\n",
        "import matplotlib.pyplot as plt\n",
        "import pandas as pd"
      ],
      "execution_count": 66,
      "outputs": []
    },
    {
      "cell_type": "code",
      "metadata": {
        "id": "5cPd335aDi1R"
      },
      "source": [
        "dataset = pd.read_csv(\"diabetes.csv\")\n",
        "x = dataset.iloc [:, [2, 3]].values\n",
        "y = dataset.iloc [:, -1].values"
      ],
      "execution_count": 67,
      "outputs": []
    },
    {
      "cell_type": "code",
      "metadata": {
        "colab": {
          "base_uri": "https://localhost:8080/"
        },
        "id": "gEy9_hVpEKGw",
        "outputId": "8e89fa0f-16c5-4583-95cd-6f502ca8d71a"
      },
      "source": [
        "print(x)"
      ],
      "execution_count": 68,
      "outputs": [
        {
          "output_type": "stream",
          "text": [
            "[[72 35]\n",
            " [66 29]\n",
            " [64  0]\n",
            " ...\n",
            " [72 23]\n",
            " [60  0]\n",
            " [70 31]]\n"
          ],
          "name": "stdout"
        }
      ]
    },
    {
      "cell_type": "code",
      "metadata": {
        "colab": {
          "base_uri": "https://localhost:8080/"
        },
        "id": "q97GWw-hERYY",
        "outputId": "7f955de6-72a9-461a-80a9-4ae7b2f42063"
      },
      "source": [
        "print (y)"
      ],
      "execution_count": 69,
      "outputs": [
        {
          "output_type": "stream",
          "text": [
            "[1 0 1 0 1 0 1 0 1 1 0 1 0 1 1 1 1 1 0 1 0 0 1 1 1 1 1 0 0 0 0 1 0 0 0 0 0\n",
            " 1 1 1 0 0 0 1 0 1 0 0 1 0 0 0 0 1 0 0 1 0 0 0 0 1 0 0 1 0 1 0 0 0 1 0 1 0\n",
            " 0 0 0 0 1 0 0 0 0 0 1 0 0 0 1 0 0 0 0 1 0 0 0 0 0 1 1 0 0 0 0 0 0 0 0 1 1\n",
            " 1 0 0 1 1 1 0 0 0 1 0 0 0 1 1 0 0 1 1 1 1 1 0 0 0 0 0 0 0 0 0 0 1 0 0 0 0\n",
            " 0 0 0 0 1 0 1 1 0 0 0 1 0 0 0 0 1 1 0 0 0 0 1 1 0 0 0 1 0 1 0 1 0 0 0 0 0\n",
            " 1 1 1 1 1 0 0 1 1 0 1 0 1 1 1 0 0 0 0 0 0 1 1 0 1 0 0 0 1 1 1 1 0 1 1 1 1\n",
            " 0 0 0 0 0 1 0 0 1 1 0 0 0 1 1 1 1 0 0 0 1 1 0 1 0 0 0 0 0 0 0 0 1 1 0 0 0\n",
            " 1 0 1 0 0 1 0 1 0 0 1 1 0 0 0 0 0 1 0 0 0 1 0 0 1 1 0 0 1 0 0 0 1 1 1 0 0\n",
            " 1 0 1 0 1 1 0 1 0 0 1 0 1 1 0 0 1 0 1 0 0 1 0 1 0 1 1 1 0 0 1 0 1 0 0 0 1\n",
            " 0 0 0 0 1 1 1 0 0 0 0 0 0 0 0 0 1 0 0 0 0 0 1 1 1 0 1 1 0 0 1 0 0 1 0 0 1\n",
            " 1 0 0 0 0 1 0 0 1 0 0 0 0 0 0 0 1 1 1 0 0 1 0 0 1 0 0 1 0 1 1 0 1 0 1 0 1\n",
            " 0 1 1 0 0 0 0 1 1 0 1 0 1 0 0 0 0 1 1 0 1 0 1 0 0 0 0 0 1 0 0 0 0 1 0 0 1\n",
            " 1 1 0 0 1 0 0 1 0 0 0 1 0 0 1 0 0 0 0 0 0 0 0 0 1 0 0 0 0 0 0 0 1 0 0 0 1\n",
            " 0 0 0 1 1 0 0 0 0 0 0 0 1 0 0 0 0 1 0 0 0 1 0 0 0 1 0 0 0 1 0 0 0 0 1 1 0\n",
            " 0 0 0 0 0 1 0 0 0 0 0 0 0 0 0 0 0 1 0 0 0 1 1 1 1 0 0 1 1 0 0 0 0 0 0 0 0\n",
            " 0 0 0 0 0 1 1 0 0 0 0 0 0 0 1 0 0 0 0 0 0 0 1 0 1 1 0 0 0 1 0 1 0 1 0 1 0\n",
            " 1 0 0 1 0 0 1 0 0 0 0 1 1 0 1 0 0 0 0 1 1 0 1 0 0 0 1 1 0 0 0 0 0 0 0 0 0\n",
            " 0 1 0 0 0 0 1 0 0 1 0 0 0 1 0 0 0 1 1 1 0 0 0 0 0 0 1 0 0 0 1 0 1 1 1 1 0\n",
            " 1 1 0 0 0 0 0 0 0 1 1 0 1 0 0 1 0 1 0 0 0 0 0 1 0 1 0 1 0 1 1 0 0 0 0 1 1\n",
            " 0 0 0 1 0 1 1 0 0 1 0 0 1 1 0 0 1 0 0 1 0 0 0 0 0 0 0 1 1 1 0 0 0 0 0 0 1\n",
            " 1 0 0 1 0 0 1 0 1 1 1 0 0 1 1 1 0 1 0 1 0 1 0 0 0 0 1 0]\n"
          ],
          "name": "stdout"
        }
      ]
    },
    {
      "cell_type": "code",
      "metadata": {
        "id": "a0xEIuSSEZ2Y"
      },
      "source": [
        "from sklearn.model_selection import train_test_split\n",
        "x_train, x_test, y_train, y_test = train_test_split(x, y, test_size = 0.25, random_state = 0)\n"
      ],
      "execution_count": 70,
      "outputs": []
    },
    {
      "cell_type": "code",
      "metadata": {
        "colab": {
          "base_uri": "https://localhost:8080/"
        },
        "id": "i24u5jkxFKs7",
        "outputId": "e264a590-cfeb-469d-ff87-6ae5795f285b"
      },
      "source": [
        "print (x_train)"
      ],
      "execution_count": 71,
      "outputs": [
        {
          "output_type": "stream",
          "text": [
            "[[62  0]\n",
            " [58 36]\n",
            " [80  0]\n",
            " ...\n",
            " [65 22]\n",
            " [74  0]\n",
            " [82  0]]\n"
          ],
          "name": "stdout"
        }
      ]
    },
    {
      "cell_type": "code",
      "metadata": {
        "colab": {
          "base_uri": "https://localhost:8080/"
        },
        "id": "hlw5enHHFVnX",
        "outputId": "1e52047a-5941-423e-9b30-e76b164973cd"
      },
      "source": [
        "print (y_test)"
      ],
      "execution_count": 72,
      "outputs": [
        {
          "output_type": "stream",
          "text": [
            "[1 0 0 1 0 0 1 1 0 0 1 1 0 0 0 0 1 0 0 0 1 1 0 0 0 0 0 0 0 0 0 0 0 0 0 1 1\n",
            " 0 0 0 0 0 0 1 1 0 0 1 1 1 0 0 1 0 0 0 0 1 1 1 1 0 0 1 1 1 1 0 0 0 0 0 0 0\n",
            " 1 0 0 0 0 0 0 0 0 0 0 0 1 0 1 0 0 0 0 0 0 0 1 0 1 1 0 0 0 0 0 1 0 0 0 1 0\n",
            " 1 1 1 1 1 0 0 0 1 0 0 0 0 0 0 0 1 0 0 0 0 0 1 0 1 0 1 1 0 0 0 0 0 1 0 0 0\n",
            " 0 1 0 1 0 0 1 0 0 0 1 1 1 1 0 0 0 1 0 0 0 0 0 0 1 1 0 0 0 0 0 0 1 1 0 1 1\n",
            " 0 1 1 1 0 0 0]\n"
          ],
          "name": "stdout"
        }
      ]
    },
    {
      "cell_type": "code",
      "metadata": {
        "id": "Gt7DMznSFsKH"
      },
      "source": [
        "from sklearn.preprocessing import StandardScaler\n",
        "sc = StandardScaler()\n",
        "x_train = sc.fit_transform(x_train)\n",
        "x_test = sc.fit_transform(x_test)"
      ],
      "execution_count": 73,
      "outputs": []
    },
    {
      "cell_type": "code",
      "metadata": {
        "colab": {
          "base_uri": "https://localhost:8080/"
        },
        "id": "QBbUc1LhGE44",
        "outputId": "34d1c29f-2071-4683-f40e-99993006a7fb"
      },
      "source": [
        "print (x_train)"
      ],
      "execution_count": 74,
      "outputs": [
        {
          "output_type": "stream",
          "text": [
            "[[-0.40451932 -1.31921491]\n",
            " [-0.61509602  0.9287299 ]\n",
            " [ 0.54307587 -1.31921491]\n",
            " ...\n",
            " [-0.24658679  0.05452914]\n",
            " [ 0.2272108  -1.31921491]\n",
            " [ 0.64836422 -1.31921491]]\n"
          ],
          "name": "stdout"
        }
      ]
    },
    {
      "cell_type": "markdown",
      "metadata": {
        "id": "5rMmxeTNl3ps"
      },
      "source": [
        ""
      ]
    },
    {
      "cell_type": "code",
      "metadata": {
        "colab": {
          "base_uri": "https://localhost:8080/"
        },
        "id": "M-oSH9lYGIbR",
        "outputId": "9963d230-8875-4a83-8e08-aa4a10dcc6c4"
      },
      "source": [
        "print(x_test)"
      ],
      "execution_count": 75,
      "outputs": [
        {
          "output_type": "stream",
          "text": [
            "[[ 0.42614323  1.55469498]\n",
            " [ 0.32738704  0.72071289]\n",
            " [-0.26515007 -1.20386117]\n",
            " [ 0.22863086  0.01503573]\n",
            " [-0.11701579 -1.20386117]\n",
            " [ 0.22863086 -0.04911673]\n",
            " [ 0.52489941  0.97732276]\n",
            " [ 0.91992415  0.52825548]\n",
            " [-0.46266244  0.33579808]\n",
            " [ 0.22863086  0.84901782]\n",
            " [ 0.42614323  1.1056277 ]\n",
            " [ 0.42614323  0.52825548]\n",
            " [ 0.32738704 -1.20386117]\n",
            " [-0.758931    0.20749314]\n",
            " [ 0.22863086  0.27164561]\n",
            " [ 0.03111849  0.0791882 ]\n",
            " [ 0.22863086  1.49054251]\n",
            " [-0.85768718 -0.56233648]\n",
            " [ 0.91992415  0.78486536]\n",
            " [-0.66017481  0.59240795]\n",
            " [ 0.72241178  0.84901782]\n",
            " [ 0.6236556  -1.20386117]\n",
            " [-3.32659181  0.27164561]\n",
            " [ 0.72241178  0.59240795]\n",
            " [-0.0676377  -0.24157414]\n",
            " [-0.36390625  0.84901782]\n",
            " [ 0.42614323 -1.20386117]\n",
            " [ 1.01868034  1.16978017]\n",
            " [-0.0676377   0.20749314]\n",
            " [ 0.03111849 -1.20386117]\n",
            " [ 0.32738704  0.46410301]\n",
            " [-0.16639388  1.74715238]\n",
            " [ 0.91992415 -0.1132692 ]\n",
            " [-0.758931    1.55469498]\n",
            " [-0.66017481 -0.36987908]\n",
            " [-0.16639388 -1.20386117]\n",
            " [ 0.82116797  1.04147523]\n",
            " [ 1.11743652  0.01503573]\n",
            " [-1.15395574  1.81130485]\n",
            " [-0.16639388  0.39995055]\n",
            " [-0.16639388 -0.04911673]\n",
            " [ 0.52489941 -1.20386117]\n",
            " [-0.36390625  0.01503573]\n",
            " [ 0.12987467  0.78486536]\n",
            " [ 0.12987467  1.68299991]\n",
            " [ 0.37676513  0.27164561]\n",
            " [-0.26515007  0.84901782]\n",
            " [-0.16639388  0.65656042]\n",
            " [-0.16639388  1.61884745]\n",
            " [ 0.6236556  -1.20386117]\n",
            " [ 0.03111849 -1.20386117]\n",
            " [-0.758931    0.46410301]\n",
            " [ 0.12987467  1.36223757]\n",
            " [ 1.11743652  1.42639004]\n",
            " [ 0.03111849  0.84901782]\n",
            " [-0.95644337  0.0791882 ]\n",
            " [-0.0676377   0.65656042]\n",
            " [ 1.51246126 -1.20386117]\n",
            " [ 0.12987467 -1.20386117]\n",
            " [-3.32659181 -1.20386117]\n",
            " [ 1.907486    1.74715238]\n",
            " [ 0.32738704  0.39995055]\n",
            " [ 0.03111849 -1.20386117]\n",
            " [-3.32659181 -1.20386117]\n",
            " [ 0.32738704 -1.20386117]\n",
            " [ 0.32738704 -1.20386117]\n",
            " [ 1.01868034 -1.20386117]\n",
            " [ 0.52489941 -1.20386117]\n",
            " [-0.758931   -1.20386117]\n",
            " [ 0.52489941  0.39995055]\n",
            " [-0.16639388 -1.20386117]\n",
            " [-3.32659181 -1.20386117]\n",
            " [ 0.03111849  0.84901782]\n",
            " [ 1.31494889 -1.20386117]\n",
            " [ 0.22863086 -1.20386117]\n",
            " [ 0.82116797 -1.20386117]\n",
            " [ 1.907486    0.27164561]\n",
            " [ 0.32738704  0.84901782]\n",
            " [ 0.91992415  0.01503573]\n",
            " [ 0.12987467  1.36223757]\n",
            " [ 0.42614323 -1.20386117]\n",
            " [ 0.32738704  2.00376226]\n",
            " [ 0.32738704  0.65656042]\n",
            " [-0.16639388  0.01503573]\n",
            " [-0.36390625  0.84901782]\n",
            " [ 0.6236556  -1.20386117]\n",
            " [-0.66017481 -1.20386117]\n",
            " [-1.84524903  1.23393264]\n",
            " [ 0.82116797  0.14334067]\n",
            " [ 0.12987467  0.52825548]\n",
            " [ 0.32738704  1.1056277 ]\n",
            " [ 0.82116797 -1.20386117]\n",
            " [-0.85768718 -0.56233648]\n",
            " [ 0.6236556  -0.49818401]\n",
            " [ 0.72241178  1.55469498]\n",
            " [-0.46266244  0.78486536]\n",
            " [ 0.42614323  0.84901782]\n",
            " [ 0.72241178  1.2980851 ]\n",
            " [ 0.22863086  1.81130485]\n",
            " [ 0.22863086 -1.20386117]\n",
            " [ 0.6236556   0.97732276]\n",
            " [-0.758931   -0.24157414]\n",
            " [ 1.21619271 -1.20386117]\n",
            " [-0.0676377  -0.36987908]\n",
            " [-0.16639388  1.49054251]\n",
            " [ 0.12987467 -1.20386117]\n",
            " [ 0.91992415  0.52825548]\n",
            " [ 0.12987467  1.23393264]\n",
            " [ 0.6236556  -0.49818401]\n",
            " [-0.16639388 -1.20386117]\n",
            " [-0.46266244  0.46410301]\n",
            " [ 0.72241178  0.84901782]\n",
            " [-0.0676377  -1.20386117]\n",
            " [ 1.51246126  1.42639004]\n",
            " [ 0.82116797  0.91317029]\n",
            " [ 0.91992415 -1.20386117]\n",
            " [-0.26515007 -0.56233648]\n",
            " [-0.85768718 -0.17742167]\n",
            " [ 0.91992415  0.01503573]\n",
            " [ 0.6236556   1.16978017]\n",
            " [ 0.52489941  1.36223757]\n",
            " [ 2.00624219  1.16978017]\n",
            " [-0.0676377   1.2980851 ]\n",
            " [ 0.52489941 -0.1132692 ]\n",
            " [ 0.32738704  0.20749314]\n",
            " [-0.36390625 -1.20386117]\n",
            " [ 1.01868034 -0.49818401]\n",
            " [ 0.32738704  0.65656042]\n",
            " [-0.66017481 -1.20386117]\n",
            " [ 1.01868034 -1.20386117]\n",
            " [-0.16639388  1.04147523]\n",
            " [-3.32659181 -1.20386117]\n",
            " [-0.36390625  0.20749314]\n",
            " [ 0.03111849  1.93960979]\n",
            " [-0.16639388  0.39995055]\n",
            " [ 0.42614323  1.16978017]\n",
            " [-0.85768718  0.01503573]\n",
            " [-0.0676377   0.84901782]\n",
            " [-3.32659181 -1.20386117]\n",
            " [-0.66017481 -1.20386117]\n",
            " [-0.46266244 -0.17742167]\n",
            " [ 0.22863086  0.65656042]\n",
            " [-0.46266244 -1.20386117]\n",
            " [ 0.52489941 -1.20386117]\n",
            " [-0.0676377  -1.20386117]\n",
            " [-0.46266244 -0.56233648]\n",
            " [-0.0676377   0.14334067]\n",
            " [-0.0676377   0.72071289]\n",
            " [ 0.03111849  0.14334067]\n",
            " [ 0.6236556   1.68299991]\n",
            " [-0.46266244  0.20749314]\n",
            " [ 0.91992415 -1.20386117]\n",
            " [ 0.32738704 -0.24157414]\n",
            " [ 0.22863086  0.72071289]\n",
            " [ 0.52489941  0.65656042]\n",
            " [-0.36390625  0.27164561]\n",
            " [ 1.11743652  0.91317029]\n",
            " [-0.56141863  0.14334067]\n",
            " [-3.32659181 -1.20386117]\n",
            " [-3.32659181 -1.20386117]\n",
            " [ 0.03111849  0.27164561]\n",
            " [ 0.52489941 -1.20386117]\n",
            " [-0.95644337 -0.04911673]\n",
            " [-0.36390625 -0.04911673]\n",
            " [ 0.12987467 -1.20386117]\n",
            " [-3.32659181 -1.20386117]\n",
            " [-0.36390625 -1.20386117]\n",
            " [-0.36390625 -1.20386117]\n",
            " [-0.46266244 -1.20386117]\n",
            " [ 1.11743652 -1.20386117]\n",
            " [-2.14151759  0.01503573]\n",
            " [ 0.12987467  1.36223757]\n",
            " [ 0.32738704 -1.20386117]\n",
            " [ 0.32738704 -1.20386117]\n",
            " [ 0.6236556  -0.24157414]\n",
            " [ 0.12987467  0.84901782]\n",
            " [ 0.22863086 -1.20386117]\n",
            " [ 0.72241178  1.42639004]\n",
            " [ 0.42614323  0.0791882 ]\n",
            " [-0.16639388  0.33579808]\n",
            " [ 0.72241178 -1.20386117]\n",
            " [ 2.30251074 -1.20386117]\n",
            " [-0.11701579  0.59240795]\n",
            " [-0.0676377   1.2980851 ]\n",
            " [ 0.12987467 -1.20386117]\n",
            " [-0.26515007 -1.20386117]\n",
            " [-3.32659181 -1.20386117]\n",
            " [ 0.22863086 -1.20386117]\n",
            " [-0.46266244  0.91317029]\n",
            " [-0.36390625 -0.69064142]\n",
            " [ 0.52489941 -1.20386117]\n",
            " [ 0.52489941  0.72071289]]\n"
          ],
          "name": "stdout"
        }
      ]
    },
    {
      "cell_type": "code",
      "metadata": {
        "colab": {
          "base_uri": "https://localhost:8080/"
        },
        "id": "1Bzfs9TYGpxY",
        "outputId": "369a1aaa-e784-4793-a251-252145ac07f8"
      },
      "source": [
        "from sklearn.naive_bayes import GaussianNB\n",
        "classifier = GaussianNB()\n",
        "classifier.fit(x_train, y_train)"
      ],
      "execution_count": 76,
      "outputs": [
        {
          "output_type": "execute_result",
          "data": {
            "text/plain": [
              "GaussianNB(priors=None, var_smoothing=1e-09)"
            ]
          },
          "metadata": {
            "tags": []
          },
          "execution_count": 76
        }
      ]
    },
    {
      "cell_type": "code",
      "metadata": {
        "id": "stKwy6LYHM7v"
      },
      "source": [
        "y_pred = classifier.predict(X_test)"
      ],
      "execution_count": 77,
      "outputs": []
    },
    {
      "cell_type": "code",
      "metadata": {
        "colab": {
          "base_uri": "https://localhost:8080/"
        },
        "id": "gpchYupwHlyf",
        "outputId": "386d945f-8715-427c-d36e-6390700d9d19"
      },
      "source": [
        "from sklearn.metrics import confusion_matrix\n",
        "cm = confusion_matrix(y_test, y_pred)\n",
        "print(cm)"
      ],
      "execution_count": 78,
      "outputs": [
        {
          "output_type": "stream",
          "text": [
            "[[  2 128]\n",
            " [  7  55]]\n"
          ],
          "name": "stdout"
        }
      ]
    },
    {
      "cell_type": "code",
      "metadata": {
        "colab": {
          "base_uri": "https://localhost:8080/",
          "height": 628
        },
        "id": "ST4c3SVeI6xX",
        "outputId": "e692ac3e-3c6a-41fc-c8fd-94fb2a420faf"
      },
      "source": [
        "from matplotlib.colors import ListedColormap\n",
        "x_set, y_set = x_train, y_train\n",
        "x1, x2 = np.meshgrid(np.arange(start = x_set[:, 0].min() - 1, stop = x_set[:, 0].max() + 1, step=0.01),\n",
        "                     np.arange(start = x_set[:, 1].min() - 1, stop = x_set[:, 1].max() + 1, step=0.01))\n",
        "plt.contour(x1, x2, classifier.predict(np.array([x1.ravel(), x2.ravel()]).T).reshape(x1.shape),\n",
        "            alpha = 0.75, cmap = ListedColormap(('red', 'green')))\n",
        "plt.xlim(x1.min(), x1.max())\n",
        "plt.ylim(x2.min(), x2.max())\n",
        "for i, j in enumerate(np.unique(y_set)):\n",
        "  plt.scatter(x_set[y_set == j, 0], x_set[y_set == j, 1],\n",
        "              c = ListedColormap(('red','green'))(i), label = j)\n",
        "  plt.title('Klasifikasi Data Menggunakan Naive Bayes (Training set)')\n",
        "  plt.xlabel('Kadar Glukosa dan Tekanan Darah')\n",
        "  plt.ylabel('Estimasi orang yang sehat (Normal)') \n",
        "  plt.legend()\n",
        "  plt.show()"
      ],
      "execution_count": 79,
      "outputs": [
        {
          "output_type": "stream",
          "text": [
            "*c* argument looks like a single numeric RGB or RGBA sequence, which should be avoided as value-mapping will have precedence in case its length matches with *x* & *y*.  Please use the *color* keyword-argument or provide a 2-D array with a single row if you intend to specify the same RGB or RGBA value for all points.\n"
          ],
          "name": "stderr"
        },
        {
          "output_type": "display_data",
          "data": {
            "image/png": "[encoded data removed]",
            "text/plain": [
              "<Figure size 432x288 with 1 Axes>"
            ]
          },
          "metadata": {
            "tags": [],
            "needs_background": "light"
          }
        },
        {
          "output_type": "stream",
          "text": [
            "*c* argument looks like a single numeric RGB or RGBA sequence, which should be avoided as value-mapping will have precedence in case its length matches with *x* & *y*.  Please use the *color* keyword-argument or provide a 2-D array with a single row if you intend to specify the same RGB or RGBA value for all points.\n"
          ],
          "name": "stderr"
        },
        {
          "output_type": "display_data",
          "data": {
            "image/png": "[encoded data removed]",
            "text/plain": [
              "<Figure size 432x288 with 1 Axes>"
            ]
          },
          "metadata": {
            "tags": [],
            "needs_background": "light"
          }
        }
      ]
    }
  ]
}