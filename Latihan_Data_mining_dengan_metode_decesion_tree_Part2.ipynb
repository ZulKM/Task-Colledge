{
  "nbformat": 4,
  "nbformat_minor": 0,
  "metadata": {
    "colab": {
      "name": "Latihan_Data_mining_dengan_metode_decesion_tree_Part2.ipynb",
      "provenance": [],
      "authorship_tag": "ABX9TyOyvXPf7YPocqixSyVKkWkH",
      "include_colab_link": true
    },
    "kernelspec": {
      "name": "python3",
      "display_name": "Python 3"
    },
    "language_info": {
      "name": "python"
    }
  },
  "cells": [
    {
      "cell_type": "markdown",
      "metadata": {
        "id": "view-in-github",
        "colab_type": "text"
      },
      "source": [
        "<a href=\"https://colab.research.google.com/github/ZulKM/Task-Colledge/blob/main/Latihan_Data_mining_dengan_metode_decesion_tree_Part2.ipynb\" target=\"_parent\"><img src=\"https://colab.research.google.com/assets/colab-badge.svg\" alt=\"Open In Colab\"/></a>"
      ]
    },
    {
      "cell_type": "code",
      "metadata": {
        "id": "srJMCXbsNQ1s"
      },
      "source": [
        "import numpy as np\n",
        "import pandas as pd\n",
        "from sklearn import tree"
      ],
      "execution_count": 32,
      "outputs": []
    },
    {
      "cell_type": "code",
      "metadata": {
        "id": "UB3VJk-7SbiP"
      },
      "source": [
        "irisDataSet = pd.read_csv('iris.csv',delimiter=',', header =0)\n",
        "irisDataSet[\"Spesies\"] = pd.factorize(irisDataSet.Spesies)[0]"
      ],
      "execution_count": 33,
      "outputs": []
    },
    {
      "cell_type": "code",
      "metadata": {
        "id": "4xCUphANUoxQ"
      },
      "source": [
        "irisDataSet = irisDataSet.drop(labels=\"id\", axis=1)\n",
        "irisDataSet = irisDataSet.to_numpy()"
      ],
      "execution_count": 34,
      "outputs": []
    },
    {
      "cell_type": "code",
      "metadata": {
        "colab": {
          "base_uri": "https://localhost:8080/"
        },
        "id": "9Vz4xv1DUvb3",
        "outputId": "bb4acf40-83f9-4764-f5bf-61482f276602"
      },
      "source": [
        "print(irisDataSet)"
      ],
      "execution_count": 35,
      "outputs": [
        {
          "output_type": "stream",
          "text": [
            "[[5.1 3.5 1.4 0.2 0. ]\n",
            " [4.9 3.  1.4 0.2 0. ]\n",
            " [4.7 3.2 1.3 0.2 0. ]\n",
            " [4.6 3.1 1.5 0.2 0. ]\n",
            " [5.  3.6 1.4 0.2 0. ]\n",
            " [5.4 3.9 1.7 0.4 0. ]\n",
            " [4.6 3.4 1.4 0.3 0. ]\n",
            " [5.  3.4 1.5 0.2 0. ]\n",
            " [4.4 2.9 1.4 0.2 0. ]\n",
            " [4.9 3.1 1.5 0.1 0. ]\n",
            " [5.4 3.7 1.5 0.2 0. ]\n",
            " [4.8 3.4 1.6 0.2 0. ]\n",
            " [4.8 3.  1.4 0.1 0. ]\n",
            " [4.3 3.  1.1 0.1 0. ]\n",
            " [5.8 4.  1.2 0.2 0. ]\n",
            " [5.7 4.4 1.5 0.4 0. ]\n",
            " [5.4 3.9 1.3 0.4 0. ]\n",
            " [5.1 3.5 1.4 0.3 0. ]\n",
            " [5.7 3.8 1.7 0.3 0. ]\n",
            " [5.1 3.8 1.5 0.3 0. ]\n",
            " [5.4 3.4 1.7 0.2 0. ]\n",
            " [5.1 3.7 1.5 0.4 0. ]\n",
            " [4.6 3.6 1.  0.2 0. ]\n",
            " [5.1 3.3 1.7 0.5 0. ]\n",
            " [4.8 3.4 1.9 0.2 0. ]\n",
            " [5.  3.  1.6 0.2 0. ]\n",
            " [5.  3.4 1.6 0.4 0. ]\n",
            " [5.2 3.5 1.5 0.2 0. ]\n",
            " [5.2 3.4 1.4 0.2 0. ]\n",
            " [4.7 3.2 1.6 0.2 0. ]\n",
            " [4.8 3.1 1.6 0.2 0. ]\n",
            " [5.4 3.4 1.5 0.4 0. ]\n",
            " [5.2 4.1 1.5 0.1 0. ]\n",
            " [5.5 4.2 1.4 0.2 0. ]\n",
            " [4.9 3.1 1.5 0.2 0. ]\n",
            " [5.  3.2 1.2 0.2 0. ]\n",
            " [5.5 3.5 1.3 0.2 0. ]\n",
            " [4.9 3.6 1.4 0.1 0. ]\n",
            " [4.4 3.  1.3 0.2 0. ]\n",
            " [5.1 3.4 1.5 0.2 0. ]\n",
            " [5.  3.5 1.3 0.3 0. ]\n",
            " [4.5 2.3 1.3 0.3 0. ]\n",
            " [4.4 3.2 1.3 0.2 0. ]\n",
            " [5.  3.5 1.6 0.6 0. ]\n",
            " [5.1 3.8 1.9 0.4 0. ]\n",
            " [4.8 3.  1.4 0.3 0. ]\n",
            " [5.1 3.8 1.6 0.2 0. ]\n",
            " [4.6 3.2 1.4 0.2 0. ]\n",
            " [5.3 3.7 1.5 0.2 0. ]\n",
            " [5.  3.3 1.4 0.2 0. ]\n",
            " [7.  3.2 4.7 1.4 1. ]\n",
            " [6.4 3.2 4.5 1.5 1. ]\n",
            " [6.9 3.1 4.9 1.5 1. ]\n",
            " [5.5 2.3 4.  1.3 1. ]\n",
            " [6.5 2.8 4.6 1.5 1. ]\n",
            " [5.7 2.8 4.5 1.3 1. ]\n",
            " [6.3 3.3 4.7 1.6 1. ]\n",
            " [4.9 2.4 3.3 1.  0. ]\n",
            " [6.6 2.9 4.6 1.3 0. ]\n",
            " [5.2 2.7 3.9 1.4 0. ]\n",
            " [5.  2.  3.5 1.  1. ]\n",
            " [5.9 3.  4.2 1.5 1. ]\n",
            " [6.  2.2 4.  1.  1. ]\n",
            " [6.1 2.9 4.7 1.4 0. ]\n",
            " [5.6 2.9 3.6 1.3 0. ]\n",
            " [6.7 3.1 4.4 1.4 0. ]\n",
            " [5.6 3.  4.5 1.5 1. ]\n",
            " [5.8 2.7 4.1 1.  1. ]\n",
            " [6.2 2.2 4.5 1.5 1. ]\n",
            " [5.6 2.5 3.9 1.1 1. ]\n",
            " [5.9 3.2 4.8 1.8 1. ]\n",
            " [6.1 2.8 4.  1.3 1. ]\n",
            " [6.3 2.5 4.9 1.5 1. ]\n",
            " [6.1 2.8 4.7 1.2 0. ]\n",
            " [6.4 2.9 4.3 1.3 0. ]\n",
            " [6.6 3.  4.4 1.4 0. ]\n",
            " [6.8 2.8 4.8 1.4 1. ]\n",
            " [6.7 3.  5.  1.7 1. ]\n",
            " [6.  2.9 4.5 1.5 1. ]\n",
            " [5.7 2.6 3.5 1.  1. ]\n",
            " [5.5 2.4 3.8 1.1 1. ]\n",
            " [5.5 2.4 3.7 1.  1. ]\n",
            " [5.8 2.7 3.9 1.2 1. ]\n",
            " [6.  2.7 5.1 1.6 1. ]\n",
            " [5.4 3.  4.5 1.5 1. ]\n",
            " [6.  3.4 4.5 1.6 1. ]\n",
            " [6.7 3.1 4.7 1.5 1. ]\n",
            " [6.3 2.3 4.4 1.3 1. ]\n",
            " [5.6 3.  4.1 1.3 1. ]\n",
            " [5.5 2.5 4.  1.3 1. ]\n",
            " [5.5 2.6 4.4 1.2 1. ]\n",
            " [6.1 3.  4.6 1.4 1. ]\n",
            " [5.8 2.6 4.  1.2 1. ]\n",
            " [5.  2.3 3.3 1.  1. ]\n",
            " [5.6 2.7 4.2 1.3 1. ]\n",
            " [5.7 3.  4.2 1.2 1. ]\n",
            " [5.7 2.9 4.2 1.3 1. ]\n",
            " [6.2 2.9 4.3 1.3 1. ]\n",
            " [5.1 2.5 3.  1.1 1. ]\n",
            " [5.7 2.8 4.1 1.3 1. ]\n",
            " [6.3 3.3 6.  2.5 0. ]\n",
            " [5.8 2.7 5.1 1.9 0. ]\n",
            " [7.1 3.  5.9 2.1 0. ]\n",
            " [6.3 2.9 5.6 1.8 0. ]\n",
            " [6.5 3.  5.8 2.2 0. ]\n",
            " [7.6 3.  6.6 2.1 1. ]\n",
            " [4.9 2.5 4.5 1.7 1. ]\n",
            " [7.3 2.9 6.3 1.8 1. ]\n",
            " [6.7 2.5 5.8 1.8 1. ]\n",
            " [7.2 3.6 6.1 2.5 1. ]\n",
            " [6.5 3.2 5.1 2.  1. ]\n",
            " [6.4 2.7 5.3 1.9 1. ]\n",
            " [6.8 3.  5.5 2.1 1. ]\n",
            " [5.7 2.5 5.  2.  1. ]\n",
            " [5.8 2.8 5.1 2.4 1. ]\n",
            " [6.4 3.2 5.3 2.3 0. ]\n",
            " [6.5 3.  5.5 1.8 0. ]\n",
            " [7.7 3.8 6.7 2.2 0. ]\n",
            " [7.7 2.6 6.9 2.3 0. ]\n",
            " [6.  2.2 5.  1.5 0. ]\n",
            " [6.9 3.2 5.7 2.3 0. ]\n",
            " [5.6 2.8 4.9 2.  0. ]\n",
            " [7.7 2.8 6.7 2.  1. ]\n",
            " [6.3 2.7 4.9 1.8 1. ]\n",
            " [6.7 3.3 5.7 2.1 1. ]\n",
            " [7.2 3.2 6.  1.8 1. ]\n",
            " [6.2 2.8 4.8 1.8 1. ]\n",
            " [6.1 3.  4.9 1.8 1. ]\n",
            " [6.4 2.8 5.6 2.1 1. ]\n",
            " [7.2 3.  5.8 1.6 1. ]\n",
            " [7.4 2.8 6.1 1.9 1. ]\n",
            " [7.9 3.8 6.4 2.  1. ]\n",
            " [6.4 2.8 5.6 2.2 0. ]\n",
            " [6.3 2.8 5.1 1.5 0. ]\n",
            " [6.1 2.6 5.6 1.4 0. ]\n",
            " [7.7 3.  6.1 2.3 0. ]\n",
            " [6.3 3.4 5.6 2.4 0. ]\n",
            " [6.4 3.1 5.5 1.8 0. ]\n",
            " [6.  3.  4.8 1.8 0. ]\n",
            " [6.9 3.1 5.4 2.1 0. ]\n",
            " [6.7 3.1 5.6 2.4 0. ]\n",
            " [6.9 3.1 5.1 2.3 0. ]\n",
            " [5.8 2.7 5.1 1.9 0. ]\n",
            " [6.8 3.2 5.9 2.3 0. ]\n",
            " [6.7 3.3 5.7 2.5 0. ]\n",
            " [6.7 3.  5.2 2.3 0. ]\n",
            " [6.3 2.5 5.  1.9 0. ]\n",
            " [6.5 3.  5.2 2.  0. ]\n",
            " [6.2 3.4 5.4 2.3 0. ]\n",
            " [5.9 3.  5.1 1.8 0. ]]\n"
          ],
          "name": "stdout"
        }
      ]
    },
    {
      "cell_type": "code",
      "metadata": {
        "id": "jg_fEh1fU_Hf"
      },
      "source": [
        "dataTraining = np.concatenate((irisDataSet[0:40,:],\n",
        "                              irisDataSet[50:90,:]),axis = 0)\n",
        "dataTesting = np.concatenate((irisDataSet[40:50,:],\n",
        "                              irisDataSet[90:100,:]),axis = 0)"
      ],
      "execution_count": 36,
      "outputs": []
    },
    {
      "cell_type": "code",
      "metadata": {
        "id": "CguU6nvzVAwX"
      },
      "source": [
        "inputTraining = dataTraining[:,0:4]\n",
        "inputTesting = dataTesting[:,0:4]\n",
        "labelTraining = dataTraining[:,4]\n",
        "labelTesting = dataTesting[:,4]"
      ],
      "execution_count": 37,
      "outputs": []
    },
    {
      "cell_type": "code",
      "metadata": {
        "colab": {
          "base_uri": "https://localhost:8080/"
        },
        "id": "Uadp9blMVDuv",
        "outputId": "a8041a93-70f9-4dfb-e697-0fbdd0d6fec1"
      },
      "source": [
        "#mendefinisikan decesion tree clasifier\n",
        "model = tree.DecisionTreeClassifier()\n",
        "#mentrail model\n",
        "model = model.fit(inputTraining, labelTraining)\n",
        "#memprediksikan imput data testing\n",
        "hasilPrediksi = model.predict(inputTesting)\n",
        "print(\"label sebenarnya\",labelTesting)\n",
        "print(\"hasil prediksi: \",hasilPrediksi)\n",
        "#menghitung akurasi\n",
        "prediksiBenar = (hasilPrediksi == labelTesting).sum()\n",
        "prediksiSalah = (hasilPrediksi != labelTesting).sum()\n",
        "print(\"Prediksi benar:\",prediksiBenar,\"data\")\n",
        "print(\"Prediksi salah:\",prediksiSalah,\"data\")\n",
        "print(\"akurasi: \",prediksiBenar/(prediksiBenar+prediksiSalah)*100,\"%\")"
      ],
      "execution_count": 38,
      "outputs": [
        {
          "output_type": "stream",
          "text": [
            "label sebenarnya [0. 0. 0. 0. 0. 0. 0. 0. 0. 0. 1. 1. 1. 1. 1. 1. 1. 1. 1. 1.]\n",
            "hasil prediksi:  [0. 0. 0. 0. 0. 0. 0. 0. 0. 0. 1. 0. 1. 0. 1. 1. 1. 0. 0. 1.]\n",
            "Prediksi benar: 16 data\n",
            "Prediksi salah: 4 data\n",
            "akurasi:  80.0 %\n"
          ],
          "name": "stdout"
        }
      ]
    }
  ]
}