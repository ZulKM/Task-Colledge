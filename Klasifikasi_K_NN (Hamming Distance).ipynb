{
  "nbformat": 4,
  "nbformat_minor": 0,
  "metadata": {
    "colab": {
      "name": "Klasifikasi K-NN.ipynb",
      "provenance": [],
      "authorship_tag": "ABX9TyPuW5hkEgH+D9whA1cBKvf0",
      "include_colab_link": true
    },
    "kernelspec": {
      "name": "python3",
      "display_name": "Python 3"
    },
    "language_info": {
      "name": "python"
    }
  },
  "cells": [
    {
      "cell_type": "markdown",
      "metadata": {
        "id": "view-in-github",
        "colab_type": "text"
      },
      "source": [
        "<a href=\"https://colab.research.google.com/github/ZulKM/Task-Colledge/blob/main/Klasifikasi_K_NN%20(Hamming%20Distance).ipynb\" target=\"_parent\"><img src=\"https://colab.research.google.com/assets/colab-badge.svg\" alt=\"Open In Colab\"/></a>"
      ]
    },
    {
      "cell_type": "markdown",
      "metadata": {
        "id": "IOjkzs8iUNV8"
      },
      "source": [
        "Untuk Import Data Setnya"
      ]
    },
    {
      "cell_type": "code",
      "metadata": {
        "id": "63o3bQ7eTyIo"
      },
      "source": [
        "import numpy as np\n",
        "import matplotlib.pyplot as plt\n",
        "import pandas as pd"
      ],
      "execution_count": 77,
      "outputs": []
    },
    {
      "cell_type": "code",
      "metadata": {
        "id": "g4rd24TiULGf"
      },
      "source": [
        "dataset = pd.read_csv('Social_Network.csv')\n",
        "x = dataset.iloc[:, [2, 3]].values\n",
        "y = dataset.iloc[:, -1].values"
      ],
      "execution_count": 78,
      "outputs": []
    },
    {
      "cell_type": "code",
      "metadata": {
        "id": "-ziNBdVeUqus"
      },
      "source": [
        "from sklearn.model_selection import train_test_split\n",
        "x_train, x_test, y_train, y_test = train_test_split(x, y, test_size = 0.25, random_state = 0)"
      ],
      "execution_count": 79,
      "outputs": []
    },
    {
      "cell_type": "code",
      "metadata": {
        "id": "IsfquJ9uVGPe"
      },
      "source": [
        "from sklearn.preprocessing import StandardScaler\n",
        "sc= StandardScaler()\n",
        "x_train = sc.fit_transform(x_train)\n",
        "x_test = sc.fit_transform(x_test)"
      ],
      "execution_count": 80,
      "outputs": []
    },
    {
      "cell_type": "code",
      "metadata": {
        "colab": {
          "base_uri": "https://localhost:8080/"
        },
        "id": "y0lipyJdVcQe",
        "outputId": "3ac3ce29-5c2b-4cc1-c8b8-c2565c8cbb26"
      },
      "source": [
        "from sklearn.neighbors import KNeighborsClassifier\n",
        "classifier = KNeighborsClassifier(n_neighbors = 5, metric = 'hamming', p = 2)\n",
        "classifier.fit(x_train, y_train)"
      ],
      "execution_count": 81,
      "outputs": [
        {
          "output_type": "execute_result",
          "data": {
            "text/plain": [
              "KNeighborsClassifier(algorithm='auto', leaf_size=30, metric='hamming',\n",
              "                     metric_params=None, n_jobs=None, n_neighbors=5, p=2,\n",
              "                     weights='uniform')"
            ]
          },
          "metadata": {
            "tags": []
          },
          "execution_count": 81
        }
      ]
    },
    {
      "cell_type": "code",
      "metadata": {
        "id": "2CKtszF-V6Lt"
      },
      "source": [
        "y_pred = classifier.predict(x_test)"
      ],
      "execution_count": 82,
      "outputs": []
    },
    {
      "cell_type": "code",
      "metadata": {
        "colab": {
          "base_uri": "https://localhost:8080/"
        },
        "id": "yKRs1gdoWhYu",
        "outputId": "5f2c0970-a02c-44ef-d5e9-55d97e18161a"
      },
      "source": [
        "print (x_test)"
      ],
      "execution_count": 83,
      "outputs": [
        {
          "output_type": "stream",
          "text": [
            "[[-0.43535432 -0.52748354]\n",
            " [-0.1464556  -0.64862808]\n",
            " [ 1.39433756  0.83539258]\n",
            " [ 0.52764141 -0.95148944]\n",
            " [ 0.72024055  0.92625099]\n",
            " [-0.91685218  0.32052827]\n",
            " [-1.30205047  0.10852532]\n",
            " [-1.2057509   0.38110054]\n",
            " [-0.43535432 -0.4971974 ]\n",
            " [-1.30205047  1.25939849]\n",
            " [ 0.62394098 -1.64807057]\n",
            " [-1.59094919 -1.46635375]\n",
            " [-0.43535432  0.01766691]\n",
            " [-0.43535432 -1.64807057]\n",
            " [-0.43535432 -0.46691126]\n",
            " [ 0.62394098 -1.07263398]\n",
            " [ 0.04614355 -0.04290536]\n",
            " [ 0.23874269  0.10852532]\n",
            " [-0.33905474 -0.4971974 ]\n",
            " [-1.97614748 -0.19433604]\n",
            " [-1.8798479   0.16909759]\n",
            " [-1.49464961  0.22966986]\n",
            " [-0.1464556  -0.52748354]\n",
            " [-0.33905474  2.04683802]\n",
            " [-0.33905474  0.6839619 ]\n",
            " [-1.2057509   1.83483507]\n",
            " [-0.91685218 -0.8303449 ]\n",
            " [-0.43535432 -0.4971974 ]\n",
            " [ 0.81654012  1.65311826]\n",
            " [ 1.29803799  0.83539258]\n",
            " [-0.62795346  0.13881146]\n",
            " [-2.07244705  0.16909759]\n",
            " [ 1.87583542  0.19938373]\n",
            " [ 1.10543884  1.74397666]\n",
            " [-0.43535432 -1.70864284]\n",
            " [ 1.20173841  1.13825394]\n",
            " [ 0.04614355 -0.52748354]\n",
            " [ 1.97213499 -1.28463694]\n",
            " [-0.43535432 -0.80005876]\n",
            " [-0.91685218  0.07823918]\n",
            " [ 0.72024055  0.86567872]\n",
            " [ 1.29803799  2.01655189]\n",
            " [-0.24275517 -1.31492307]\n",
            " [ 0.72024055 -0.89091717]\n",
            " [ 1.49063713  1.62283212]\n",
            " [ 0.62394098  0.35081441]\n",
            " [-1.30205047  0.10852532]\n",
            " [-1.30205047 -1.34520921]\n",
            " [ 0.81654012 -1.31492307]\n",
            " [ 0.14244312 -0.13376377]\n",
            " [ 0.9128397   1.95597962]\n",
            " [-0.24275517  0.01766691]\n",
            " [-1.68724876  0.13881146]\n",
            " [ 0.72024055 -0.80005876]\n",
            " [ 1.29803799 -0.13376377]\n",
            " [ 0.81654012 -1.40578148]\n",
            " [-1.01315175 -1.01206171]\n",
            " [-1.8798479   0.29024214]\n",
            " [ 0.62394098 -1.34520921]\n",
            " [ 0.04614355  1.98626575]\n",
            " [ 0.81654012  1.28968462]\n",
            " [-0.05015603 -1.04234785]\n",
            " [-0.24275517  0.07823918]\n",
            " [-1.39835004  0.41138668]\n",
            " [ 0.14244312  0.07823918]\n",
            " [-0.24275517 -0.0731915 ]\n",
            " [-0.33905474  1.47140144]\n",
            " [ 1.77953585  0.74453418]\n",
            " [ 0.72024055 -0.89091717]\n",
            " [-0.53165389  1.07768167]\n",
            " [-1.78354833  0.35081441]\n",
            " [-0.82055261 -1.28463694]\n",
            " [-1.49464961 -1.73892897]\n",
            " [ 1.5869367  -0.4971974 ]\n",
            " [ 0.52764141 -0.01261922]\n",
            " [ 0.52764141  1.65311826]\n",
            " [ 0.23874269 -0.10347763]\n",
            " [-1.59094919  0.07823918]\n",
            " [-1.10945132  0.38110054]\n",
            " [ 1.00913927 -0.98177558]\n",
            " [-0.05015603  1.74397666]\n",
            " [-0.43535432 -0.55776967]\n",
            " [ 0.81654012  0.5931035 ]\n",
            " [-0.43535432  0.07823918]\n",
            " [-1.10945132  0.32052827]\n",
            " [-1.01315175 -0.04290536]\n",
            " [-1.10945132 -0.64862808]\n",
            " [-0.33905474  1.25939849]\n",
            " [-0.05015603  1.74397666]\n",
            " [-0.43535432 -0.80005876]\n",
            " [ 0.23874269 -0.19433604]\n",
            " [ 1.5869367   0.83539258]\n",
            " [ 1.29803799 -1.28463694]\n",
            " [-1.39835004 -1.76921511]\n",
            " [-0.62795346 -1.07263398]\n",
            " [-0.05015603  1.74397666]\n",
            " [ 0.43134183 -1.13320626]\n",
            " [ 0.72024055 -1.31492307]\n",
            " [ 0.23874269  0.10852532]\n",
            " [ 0.33504226  1.07768167]\n",
            " [ 0.9128397  -0.0731915 ]\n",
            " [-0.43535432 -0.13376377]\n",
            " [ 0.62394098  0.07823918]\n",
            " [ 0.72024055 -0.76977262]\n",
            " [ 1.97213499  0.95653713]\n",
            " [-1.30205047  0.10852532]\n",
            " [ 0.72024055 -1.01206171]\n",
            " [-1.49464961 -1.49663989]\n",
            " [-0.43535432 -0.46691126]\n",
            " [-0.72425303  0.259956  ]\n",
            " [ 1.00913927 -1.22406466]\n",
            " [-1.30205047  0.29024214]\n",
            " [ 0.62394098  1.22911235]\n",
            " [-0.82055261  1.25939849]\n",
            " [-0.1464556   1.10796781]\n",
            " [ 0.23874269 -0.04290536]\n",
            " [ 1.68323628  1.38054303]\n",
            " [ 1.97213499 -1.04234785]\n",
            " [ 0.81654012  0.5931035 ]\n",
            " [ 0.52764141 -1.34520921]\n",
            " [ 1.68323628 -0.4971974 ]\n",
            " [ 0.04614355 -0.34576672]\n",
            " [ 0.23874269 -0.37605286]\n",
            " [ 1.39433756  0.95653713]\n",
            " [ 0.04614355 -0.58805581]\n",
            " [-0.43535432 -1.64807057]\n",
            " [-0.24275517  0.10852532]\n",
            " [-0.43535432 -1.04234785]\n",
            " [-0.1464556  -0.76977262]\n",
            " [-0.72425303  1.7742628 ]\n",
            " [ 0.23874269 -0.34576672]\n",
            " [ 1.20173841  2.22855484]\n",
            " [-2.07244705  0.29024214]\n",
            " [ 0.62394098  0.16909759]\n",
            " [ 1.00913927 -1.22406466]\n",
            " [ 1.77953585  2.04683802]\n",
            " [-0.05015603  0.5931035 ]\n",
            " [ 0.81654012 -1.31492307]\n",
            " [ 0.23874269 -0.34576672]\n",
            " [ 0.52764141  0.07823918]\n",
            " [ 0.14244312 -0.73948649]\n",
            " [ 0.14244312 -0.13376377]\n",
            " [-1.97614748  0.259956  ]\n",
            " [ 1.5869367   0.83539258]]\n"
          ],
          "name": "stdout"
        }
      ]
    },
    {
      "cell_type": "code",
      "metadata": {
        "colab": {
          "base_uri": "https://localhost:8080/"
        },
        "id": "gbrZeEuQWoOd",
        "outputId": "9100db88-e56d-4d5b-c192-a201efb02822"
      },
      "source": [
        "print (y_test)"
      ],
      "execution_count": 84,
      "outputs": [
        {
          "output_type": "stream",
          "text": [
            "[0 0 0 1 0 0 1 0 0 1 0 0 0 0 0 1 1 0 1 0 0 0 0 1 1 1 0 0 1 1 1 1 0 0 1 0 1\n",
            " 1 1 0 1 1 0 0 1 1 0 0 1 1 1 1 1 1 1 1 1 0 1 0 1 1 1 1 0 0 1 1 0 0 1 0 1 1\n",
            " 1 0 1 1 0 1 1 0 0 0 1 0 1 1 0 0 1 0 1 0 0 1 0 0 0 1 0 1 1 1 1 1 0 0 0 1 1\n",
            " 0 1 1 1 0 1 1 0 1 1 0 0 1 0 0 0 0 1 0 0 1 1 1 1 1 0 1 0 1 0 0 1 0]\n"
          ],
          "name": "stdout"
        }
      ]
    },
    {
      "cell_type": "code",
      "metadata": {
        "colab": {
          "base_uri": "https://localhost:8080/"
        },
        "id": "bduO-OwXWvvl",
        "outputId": "5d10821f-aba8-4202-9230-0f9552e20644"
      },
      "source": [
        "from sklearn.metrics import confusion_matrix\n",
        "cm = confusion_matrix(y_test, y_pred)\n",
        "print(cm)"
      ],
      "execution_count": 85,
      "outputs": [
        {
          "output_type": "stream",
          "text": [
            "[[68  0]\n",
            " [76  0]]\n"
          ],
          "name": "stdout"
        }
      ]
    },
    {
      "cell_type": "markdown",
      "metadata": {
        "id": "cVqH172fZuQa"
      },
      "source": [
        "For Training "
      ]
    },
    {
      "cell_type": "code",
      "metadata": {
        "colab": {
          "base_uri": "https://localhost:8080/",
          "height": 381
        },
        "id": "4Ra8R1FOXH3M",
        "outputId": "d88e1139-f624-430f-e54f-85e12d783191"
      },
      "source": [
        "from matplotlib.colors import ListedColormap\n",
        "x_set, y_set = x_train, y_train\n",
        "x1, x2 = np.meshgrid(np.arange(start = x_set[:, 0].min() - 1, stop = x_set[:, 0].max() + 1, step = 0.01),\n",
        "                     np.arange(start = x_set[:, 1].min() - 1, stop = x_set[:, 1].max() + 1, step = 0.01))\n",
        "plt.contour(x1, x2, classifier.predict(np.array([x1.ravel(), x2.ravel()]).T).reshape(x1.shape),\n",
        "            alpha = 0.75, cmap = ListedColormap(('blue', 'red')))\n",
        "plt.xlim(x1.min(), x1.max())\n",
        "plt.ylim(x2.min(), x2.max())\n",
        "for i, j in enumerate(np.unique(y_set)):\n",
        "  plt.scatter (x_set[y_set == j, 0], x_set[y_set == j, 1],\n",
        "              c = ListedColormap(('blue', 'red'))(i), label = j)\n",
        "plt.title('K-NN (test set')\n",
        "plt.xlabel('umur')\n",
        "plt.ylabel('gaji')\n",
        "plt.legend()\n",
        "plt.show()"
      ],
      "execution_count": 86,
      "outputs": [
        {
          "output_type": "stream",
          "text": [
            "/usr/local/lib/python3.7/dist-packages/ipykernel_launcher.py:6: UserWarning: No contour levels were found within the data range.\n",
            "  \n",
            "*c* argument looks like a single numeric RGB or RGBA sequence, which should be avoided as value-mapping will have precedence in case its length matches with *x* & *y*.  Please use the *color* keyword-argument or provide a 2-D array with a single row if you intend to specify the same RGB or RGBA value for all points.\n",
            "*c* argument looks like a single numeric RGB or RGBA sequence, which should be avoided as value-mapping will have precedence in case its length matches with *x* & *y*.  Please use the *color* keyword-argument or provide a 2-D array with a single row if you intend to specify the same RGB or RGBA value for all points.\n"
          ],
          "name": "stderr"
        },
        {
          "output_type": "display_data",
          "data": {
            "image/png": "[encoded data removed]",
            "text/plain": [
              "<Figure size 432x288 with 1 Axes>"
            ]
          },
          "metadata": {
            "tags": [],
            "needs_background": "light"
          }
        }
      ]
    },
    {
      "cell_type": "code",
      "metadata": {
        "colab": {
          "base_uri": "https://localhost:8080/",
          "height": 381
        },
        "id": "dj25Kg50Zwkb",
        "outputId": "9dd85cfc-9730-4b66-879d-972151679a6e"
      },
      "source": [
        "from matplotlib.colors import ListedColormap\n",
        "x_set, y_set = x_test, y_test\n",
        "x1, x2 = np.meshgrid(np.arange(start = x_set[:, 0].min() - 1, stop = x_set[:, 0].max() + 1, step = 0.01),\n",
        "                     np.arange(start = x_set[:, 1].min() - 1, stop = x_set[:, 1].max() + 1, step = 0.01))\n",
        "plt.contour(x1, x2, classifier.predict(np.array([x1.ravel(), x2.ravel()]).T).reshape(x1.shape),\n",
        "            alpha = 0.75, cmap = ListedColormap(('green', 'red')))\n",
        "plt.xlim(x1.min(), x1.max())\n",
        "plt.ylim(x2.min(), x2.max())\n",
        "for i, j in enumerate(np.unique(y_set)):\n",
        "  plt.scatter (x_set[y_set == j, 0], x_set[y_set == j, 1],\n",
        "              c = ListedColormap(('green', 'red'))(i), label = j)\n",
        "plt.title('K-NN (test set')\n",
        "plt.xlabel('umur')\n",
        "plt.ylabel('gaji')\n",
        "plt.legend()\n",
        "plt.show()"
      ],
      "execution_count": 87,
      "outputs": [
        {
          "output_type": "stream",
          "text": [
            "/usr/local/lib/python3.7/dist-packages/ipykernel_launcher.py:6: UserWarning: No contour levels were found within the data range.\n",
            "  \n",
            "*c* argument looks like a single numeric RGB or RGBA sequence, which should be avoided as value-mapping will have precedence in case its length matches with *x* & *y*.  Please use the *color* keyword-argument or provide a 2-D array with a single row if you intend to specify the same RGB or RGBA value for all points.\n",
            "*c* argument looks like a single numeric RGB or RGBA sequence, which should be avoided as value-mapping will have precedence in case its length matches with *x* & *y*.  Please use the *color* keyword-argument or provide a 2-D array with a single row if you intend to specify the same RGB or RGBA value for all points.\n"
          ],
          "name": "stderr"
        },
        {
          "output_type": "display_data",
          "data": {
            "image/png": "[encoded data removed]",
            "text/plain": [
              "<Figure size 432x288 with 1 Axes>"
            ]
          },
          "metadata": {
            "tags": [],
            "needs_background": "light"
          }
        }
      ]
    }
  ]
}