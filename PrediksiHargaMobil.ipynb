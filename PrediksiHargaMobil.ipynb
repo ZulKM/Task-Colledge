{
  "nbformat": 4,
  "nbformat_minor": 0,
  "metadata": {
    "colab": {
      "name": "PrediksiHargaMobil.ipynb",
      "provenance": [],
      "collapsed_sections": [],
      "authorship_tag": "ABX9TyNsK2sk1p/0mBm5bhc2BCxR",
      "include_colab_link": true
    },
    "kernelspec": {
      "name": "python3",
      "display_name": "Python 3"
    },
    "language_info": {
      "name": "python"
    }
  },
  "cells": [
    {
      "cell_type": "markdown",
      "metadata": {
        "id": "view-in-github",
        "colab_type": "text"
      },
      "source": [
        "<a href=\"https://colab.research.google.com/github/ZulKM/Task-Colledge/blob/main/PrediksiHargaMobil.ipynb\" target=\"_parent\"><img src=\"https://colab.research.google.com/assets/colab-badge.svg\" alt=\"Open In Colab\"/></a>"
      ]
    },
    {
      "cell_type": "code",
      "metadata": {
        "id": "xTwgWlpCOm0E"
      },
      "source": [
        "#import library yang dibutuhkan \n",
        "import pandas as pd\n",
        "import numpy as np\n",
        "import matplotlib.pyplot as plt"
      ],
      "execution_count": null,
      "outputs": []
    },
    {
      "cell_type": "markdown",
      "metadata": {
        "id": "OfUAcBHYlbc8"
      },
      "source": [
        "numpy untuk mempermudahkan operasi komputasi yang bersifat numerik (angka)\n",
        "matlitlib berguna untuk memvisualisasikan data\n"
      ]
    },
    {
      "cell_type": "code",
      "metadata": {
        "id": "5CnkJxCsnsrV"
      },
      "source": [
        "data = pd.read_csv(\"imports-85.data\")\n"
      ],
      "execution_count": null,
      "outputs": []
    },
    {
      "cell_type": "code",
      "metadata": {
        "colab": {
          "base_uri": "https://localhost:8080/",
          "height": 206
        },
        "id": "f52-hZYGEDRR",
        "outputId": "a5da6513-418b-4b1f-ef38-cb93c51e1600"
      },
      "source": [
        "data.head()"
      ],
      "execution_count": null,
      "outputs": [
        {
          "output_type": "execute_result",
          "data": {
            "text/html": [
              "<div>\n",
              "<style scoped>\n",
              "    .dataframe tbody tr th:only-of-type {\n",
              "        vertical-align: middle;\n",
              "    }\n",
              "\n",
              "    .dataframe tbody tr th {\n",
              "        vertical-align: top;\n",
              "    }\n",
              "\n",
              "    .dataframe thead th {\n",
              "        text-align: right;\n",
              "    }\n",
              "</style>\n",
              "<table border=\"1\" class=\"dataframe\">\n",
              "  <thead>\n",
              "    <tr style=\"text-align: right;\">\n",
              "      <th></th>\n",
              "      <th>3</th>\n",
              "      <th>?</th>\n",
              "      <th>alfa-romero</th>\n",
              "      <th>gas</th>\n",
              "      <th>std</th>\n",
              "      <th>two</th>\n",
              "      <th>convertible</th>\n",
              "      <th>rwd</th>\n",
              "      <th>front</th>\n",
              "      <th>88.60</th>\n",
              "      <th>168.80</th>\n",
              "      <th>64.10</th>\n",
              "      <th>48.80</th>\n",
              "      <th>2548</th>\n",
              "      <th>dohc</th>\n",
              "      <th>four</th>\n",
              "      <th>130</th>\n",
              "      <th>mpfi</th>\n",
              "      <th>3.47</th>\n",
              "      <th>2.68</th>\n",
              "      <th>9.00</th>\n",
              "      <th>111</th>\n",
              "      <th>5000</th>\n",
              "      <th>21</th>\n",
              "      <th>27</th>\n",
              "      <th>13495</th>\n",
              "    </tr>\n",
              "  </thead>\n",
              "  <tbody>\n",
              "    <tr>\n",
              "      <th>0</th>\n",
              "      <td>3</td>\n",
              "      <td>?</td>\n",
              "      <td>alfa-romero</td>\n",
              "      <td>gas</td>\n",
              "      <td>std</td>\n",
              "      <td>two</td>\n",
              "      <td>convertible</td>\n",
              "      <td>rwd</td>\n",
              "      <td>front</td>\n",
              "      <td>88.6</td>\n",
              "      <td>168.8</td>\n",
              "      <td>64.1</td>\n",
              "      <td>48.8</td>\n",
              "      <td>2548</td>\n",
              "      <td>dohc</td>\n",
              "      <td>four</td>\n",
              "      <td>130</td>\n",
              "      <td>mpfi</td>\n",
              "      <td>3.47</td>\n",
              "      <td>2.68</td>\n",
              "      <td>9.0</td>\n",
              "      <td>111</td>\n",
              "      <td>5000</td>\n",
              "      <td>21</td>\n",
              "      <td>27</td>\n",
              "      <td>16500</td>\n",
              "    </tr>\n",
              "    <tr>\n",
              "      <th>1</th>\n",
              "      <td>1</td>\n",
              "      <td>?</td>\n",
              "      <td>alfa-romero</td>\n",
              "      <td>gas</td>\n",
              "      <td>std</td>\n",
              "      <td>two</td>\n",
              "      <td>hatchback</td>\n",
              "      <td>rwd</td>\n",
              "      <td>front</td>\n",
              "      <td>94.5</td>\n",
              "      <td>171.2</td>\n",
              "      <td>65.5</td>\n",
              "      <td>52.4</td>\n",
              "      <td>2823</td>\n",
              "      <td>ohcv</td>\n",
              "      <td>six</td>\n",
              "      <td>152</td>\n",
              "      <td>mpfi</td>\n",
              "      <td>2.68</td>\n",
              "      <td>3.47</td>\n",
              "      <td>9.0</td>\n",
              "      <td>154</td>\n",
              "      <td>5000</td>\n",
              "      <td>19</td>\n",
              "      <td>26</td>\n",
              "      <td>16500</td>\n",
              "    </tr>\n",
              "    <tr>\n",
              "      <th>2</th>\n",
              "      <td>2</td>\n",
              "      <td>164</td>\n",
              "      <td>audi</td>\n",
              "      <td>gas</td>\n",
              "      <td>std</td>\n",
              "      <td>four</td>\n",
              "      <td>sedan</td>\n",
              "      <td>fwd</td>\n",
              "      <td>front</td>\n",
              "      <td>99.8</td>\n",
              "      <td>176.6</td>\n",
              "      <td>66.2</td>\n",
              "      <td>54.3</td>\n",
              "      <td>2337</td>\n",
              "      <td>ohc</td>\n",
              "      <td>four</td>\n",
              "      <td>109</td>\n",
              "      <td>mpfi</td>\n",
              "      <td>3.19</td>\n",
              "      <td>3.40</td>\n",
              "      <td>10.0</td>\n",
              "      <td>102</td>\n",
              "      <td>5500</td>\n",
              "      <td>24</td>\n",
              "      <td>30</td>\n",
              "      <td>13950</td>\n",
              "    </tr>\n",
              "    <tr>\n",
              "      <th>3</th>\n",
              "      <td>2</td>\n",
              "      <td>164</td>\n",
              "      <td>audi</td>\n",
              "      <td>gas</td>\n",
              "      <td>std</td>\n",
              "      <td>four</td>\n",
              "      <td>sedan</td>\n",
              "      <td>4wd</td>\n",
              "      <td>front</td>\n",
              "      <td>99.4</td>\n",
              "      <td>176.6</td>\n",
              "      <td>66.4</td>\n",
              "      <td>54.3</td>\n",
              "      <td>2824</td>\n",
              "      <td>ohc</td>\n",
              "      <td>five</td>\n",
              "      <td>136</td>\n",
              "      <td>mpfi</td>\n",
              "      <td>3.19</td>\n",
              "      <td>3.40</td>\n",
              "      <td>8.0</td>\n",
              "      <td>115</td>\n",
              "      <td>5500</td>\n",
              "      <td>18</td>\n",
              "      <td>22</td>\n",
              "      <td>17450</td>\n",
              "    </tr>\n",
              "    <tr>\n",
              "      <th>4</th>\n",
              "      <td>2</td>\n",
              "      <td>?</td>\n",
              "      <td>audi</td>\n",
              "      <td>gas</td>\n",
              "      <td>std</td>\n",
              "      <td>two</td>\n",
              "      <td>sedan</td>\n",
              "      <td>fwd</td>\n",
              "      <td>front</td>\n",
              "      <td>99.8</td>\n",
              "      <td>177.3</td>\n",
              "      <td>66.3</td>\n",
              "      <td>53.1</td>\n",
              "      <td>2507</td>\n",
              "      <td>ohc</td>\n",
              "      <td>five</td>\n",
              "      <td>136</td>\n",
              "      <td>mpfi</td>\n",
              "      <td>3.19</td>\n",
              "      <td>3.40</td>\n",
              "      <td>8.5</td>\n",
              "      <td>110</td>\n",
              "      <td>5500</td>\n",
              "      <td>19</td>\n",
              "      <td>25</td>\n",
              "      <td>15250</td>\n",
              "    </tr>\n",
              "  </tbody>\n",
              "</table>\n",
              "</div>"
            ],
            "text/plain": [
              "   3    ?  alfa-romero  gas  std   two  ...  9.00  111  5000  21  27  13495\n",
              "0  3    ?  alfa-romero  gas  std   two  ...   9.0  111  5000  21  27  16500\n",
              "1  1    ?  alfa-romero  gas  std   two  ...   9.0  154  5000  19  26  16500\n",
              "2  2  164         audi  gas  std  four  ...  10.0  102  5500  24  30  13950\n",
              "3  2  164         audi  gas  std  four  ...   8.0  115  5500  18  22  17450\n",
              "4  2    ?         audi  gas  std   two  ...   8.5  110  5500  19  25  15250\n",
              "\n",
              "[5 rows x 26 columns]"
            ]
          },
          "metadata": {
            "tags": []
          },
          "execution_count": 98
        }
      ]
    },
    {
      "cell_type": "markdown",
      "metadata": {
        "id": "P4tEqLu5Ephp"
      },
      "source": [
        "pada tabel diatas terdapat 4 baris x 26 kolom kemungkinan besar file ini merupakan file dengan format CSV yang tanpa nama kolom."
      ]
    },
    {
      "cell_type": "code",
      "metadata": {
        "id": "ikZ3Q5ONFEy3"
      },
      "source": [
        "cols = ['Simbol', 'Kerugian', 'Jenis-mobil', 'Tipe-bahan-bakar', 'Aspirasi', 'Jumlah-pintu', 'Jenis-body', \n",
        "        'jenis-kendaraan', 'Letak-mesin', 'jenis-roda', 'Panjang-kendaraan', 'Lebar-kendaraan', 'Tinggi-kendaraan', 'Kapasitas', 'Jenis-mesin', \n",
        "        'Nomor-mesin', 'ukuran-mesin', 'sistem-kendaraan', 'bore', 'stroke-mesin', 'tingkat-kompresi', 'horsepower',\n",
        "        'kecepatan-putaran-mesin', 'Rata-rata-kecepatan-pada-kota', 'Rata-rata-kecepatan-pada-jalan-raya', 'Harga']\n",
        "data = pd.read_csv(\"imports-85.data\", names=cols)        "
      ],
      "execution_count": null,
      "outputs": []
    },
    {
      "cell_type": "code",
      "metadata": {
        "colab": {
          "base_uri": "https://localhost:8080/",
          "height": 330
        },
        "id": "zyD089cBIFql",
        "outputId": "e322b644-387a-4289-993c-5d78e80e5647"
      },
      "source": [
        "data.head()"
      ],
      "execution_count": null,
      "outputs": [
        {
          "output_type": "execute_result",
          "data": {
            "text/html": [
              "<div>\n",
              "<style scoped>\n",
              "    .dataframe tbody tr th:only-of-type {\n",
              "        vertical-align: middle;\n",
              "    }\n",
              "\n",
              "    .dataframe tbody tr th {\n",
              "        vertical-align: top;\n",
              "    }\n",
              "\n",
              "    .dataframe thead th {\n",
              "        text-align: right;\n",
              "    }\n",
              "</style>\n",
              "<table border=\"1\" class=\"dataframe\">\n",
              "  <thead>\n",
              "    <tr style=\"text-align: right;\">\n",
              "      <th></th>\n",
              "      <th>Simbol</th>\n",
              "      <th>Kerugian</th>\n",
              "      <th>Jenis-mobil</th>\n",
              "      <th>Tipe-bahan-bakar</th>\n",
              "      <th>Aspirasi</th>\n",
              "      <th>Jumlah-pintu</th>\n",
              "      <th>Jenis-body</th>\n",
              "      <th>jenis-kendaraan</th>\n",
              "      <th>Letak-mesin</th>\n",
              "      <th>jenis-roda</th>\n",
              "      <th>Panjang-kendaraan</th>\n",
              "      <th>Lebar-kendaraan</th>\n",
              "      <th>Tinggi-kendaraan</th>\n",
              "      <th>Kapasitas</th>\n",
              "      <th>Jenis-mesin</th>\n",
              "      <th>Nomor-mesin</th>\n",
              "      <th>ukuran-mesin</th>\n",
              "      <th>sistem-kendaraan</th>\n",
              "      <th>bore</th>\n",
              "      <th>stroke-mesin</th>\n",
              "      <th>tingkat-kompresi</th>\n",
              "      <th>horsepower</th>\n",
              "      <th>kecepatan-putaran-mesin</th>\n",
              "      <th>Rata-rata-kecepatan-pada-kota</th>\n",
              "      <th>Rata-rata-kecepatan-pada-jalan-raya</th>\n",
              "      <th>Harga</th>\n",
              "    </tr>\n",
              "  </thead>\n",
              "  <tbody>\n",
              "    <tr>\n",
              "      <th>0</th>\n",
              "      <td>3</td>\n",
              "      <td>?</td>\n",
              "      <td>alfa-romero</td>\n",
              "      <td>gas</td>\n",
              "      <td>std</td>\n",
              "      <td>two</td>\n",
              "      <td>convertible</td>\n",
              "      <td>rwd</td>\n",
              "      <td>front</td>\n",
              "      <td>88.6</td>\n",
              "      <td>168.8</td>\n",
              "      <td>64.1</td>\n",
              "      <td>48.8</td>\n",
              "      <td>2548</td>\n",
              "      <td>dohc</td>\n",
              "      <td>four</td>\n",
              "      <td>130</td>\n",
              "      <td>mpfi</td>\n",
              "      <td>3.47</td>\n",
              "      <td>2.68</td>\n",
              "      <td>9.0</td>\n",
              "      <td>111</td>\n",
              "      <td>5000</td>\n",
              "      <td>21</td>\n",
              "      <td>27</td>\n",
              "      <td>13495</td>\n",
              "    </tr>\n",
              "    <tr>\n",
              "      <th>1</th>\n",
              "      <td>3</td>\n",
              "      <td>?</td>\n",
              "      <td>alfa-romero</td>\n",
              "      <td>gas</td>\n",
              "      <td>std</td>\n",
              "      <td>two</td>\n",
              "      <td>convertible</td>\n",
              "      <td>rwd</td>\n",
              "      <td>front</td>\n",
              "      <td>88.6</td>\n",
              "      <td>168.8</td>\n",
              "      <td>64.1</td>\n",
              "      <td>48.8</td>\n",
              "      <td>2548</td>\n",
              "      <td>dohc</td>\n",
              "      <td>four</td>\n",
              "      <td>130</td>\n",
              "      <td>mpfi</td>\n",
              "      <td>3.47</td>\n",
              "      <td>2.68</td>\n",
              "      <td>9.0</td>\n",
              "      <td>111</td>\n",
              "      <td>5000</td>\n",
              "      <td>21</td>\n",
              "      <td>27</td>\n",
              "      <td>16500</td>\n",
              "    </tr>\n",
              "    <tr>\n",
              "      <th>2</th>\n",
              "      <td>1</td>\n",
              "      <td>?</td>\n",
              "      <td>alfa-romero</td>\n",
              "      <td>gas</td>\n",
              "      <td>std</td>\n",
              "      <td>two</td>\n",
              "      <td>hatchback</td>\n",
              "      <td>rwd</td>\n",
              "      <td>front</td>\n",
              "      <td>94.5</td>\n",
              "      <td>171.2</td>\n",
              "      <td>65.5</td>\n",
              "      <td>52.4</td>\n",
              "      <td>2823</td>\n",
              "      <td>ohcv</td>\n",
              "      <td>six</td>\n",
              "      <td>152</td>\n",
              "      <td>mpfi</td>\n",
              "      <td>2.68</td>\n",
              "      <td>3.47</td>\n",
              "      <td>9.0</td>\n",
              "      <td>154</td>\n",
              "      <td>5000</td>\n",
              "      <td>19</td>\n",
              "      <td>26</td>\n",
              "      <td>16500</td>\n",
              "    </tr>\n",
              "    <tr>\n",
              "      <th>3</th>\n",
              "      <td>2</td>\n",
              "      <td>164</td>\n",
              "      <td>audi</td>\n",
              "      <td>gas</td>\n",
              "      <td>std</td>\n",
              "      <td>four</td>\n",
              "      <td>sedan</td>\n",
              "      <td>fwd</td>\n",
              "      <td>front</td>\n",
              "      <td>99.8</td>\n",
              "      <td>176.6</td>\n",
              "      <td>66.2</td>\n",
              "      <td>54.3</td>\n",
              "      <td>2337</td>\n",
              "      <td>ohc</td>\n",
              "      <td>four</td>\n",
              "      <td>109</td>\n",
              "      <td>mpfi</td>\n",
              "      <td>3.19</td>\n",
              "      <td>3.40</td>\n",
              "      <td>10.0</td>\n",
              "      <td>102</td>\n",
              "      <td>5500</td>\n",
              "      <td>24</td>\n",
              "      <td>30</td>\n",
              "      <td>13950</td>\n",
              "    </tr>\n",
              "    <tr>\n",
              "      <th>4</th>\n",
              "      <td>2</td>\n",
              "      <td>164</td>\n",
              "      <td>audi</td>\n",
              "      <td>gas</td>\n",
              "      <td>std</td>\n",
              "      <td>four</td>\n",
              "      <td>sedan</td>\n",
              "      <td>4wd</td>\n",
              "      <td>front</td>\n",
              "      <td>99.4</td>\n",
              "      <td>176.6</td>\n",
              "      <td>66.4</td>\n",
              "      <td>54.3</td>\n",
              "      <td>2824</td>\n",
              "      <td>ohc</td>\n",
              "      <td>five</td>\n",
              "      <td>136</td>\n",
              "      <td>mpfi</td>\n",
              "      <td>3.19</td>\n",
              "      <td>3.40</td>\n",
              "      <td>8.0</td>\n",
              "      <td>115</td>\n",
              "      <td>5500</td>\n",
              "      <td>18</td>\n",
              "      <td>22</td>\n",
              "      <td>17450</td>\n",
              "    </tr>\n",
              "  </tbody>\n",
              "</table>\n",
              "</div>"
            ],
            "text/plain": [
              "   Simbol Kerugian  ... Rata-rata-kecepatan-pada-jalan-raya  Harga\n",
              "0       3        ?  ...                                  27  13495\n",
              "1       3        ?  ...                                  27  16500\n",
              "2       1        ?  ...                                  26  16500\n",
              "3       2      164  ...                                  30  13950\n",
              "4       2      164  ...                                  22  17450\n",
              "\n",
              "[5 rows x 26 columns]"
            ]
          },
          "metadata": {
            "tags": []
          },
          "execution_count": 100
        }
      ]
    },
    {
      "cell_type": "code",
      "metadata": {
        "colab": {
          "base_uri": "https://localhost:8080/",
          "height": 241
        },
        "id": "tkCpW0AEIPDG",
        "outputId": "72df785e-104c-440a-9c9c-6611e36bd524"
      },
      "source": [
        "continuous_values_cols = ['Kerugian', 'jenis-roda', 'Panjang-kendaraan', 'Lebar-kendaraan', 'Tinggi-kendaraan',\n",
        "                          'Kapasitas', 'bore', 'stroke-mesin', 'tingkat-kompresi', 'horsepower',\n",
        "                          'kecepatan-putaran-mesin', 'Rata-rata-kecepatan-pada-kota', 'Rata-rata-kecepatan-pada-jalan-raya', 'Harga']\n",
        "\n",
        "data = data[continuous_values_cols]\n",
        "data.head()"
      ],
      "execution_count": null,
      "outputs": [
        {
          "output_type": "execute_result",
          "data": {
            "text/html": [
              "<div>\n",
              "<style scoped>\n",
              "    .dataframe tbody tr th:only-of-type {\n",
              "        vertical-align: middle;\n",
              "    }\n",
              "\n",
              "    .dataframe tbody tr th {\n",
              "        vertical-align: top;\n",
              "    }\n",
              "\n",
              "    .dataframe thead th {\n",
              "        text-align: right;\n",
              "    }\n",
              "</style>\n",
              "<table border=\"1\" class=\"dataframe\">\n",
              "  <thead>\n",
              "    <tr style=\"text-align: right;\">\n",
              "      <th></th>\n",
              "      <th>Kerugian</th>\n",
              "      <th>jenis-roda</th>\n",
              "      <th>Panjang-kendaraan</th>\n",
              "      <th>Lebar-kendaraan</th>\n",
              "      <th>Tinggi-kendaraan</th>\n",
              "      <th>Kapasitas</th>\n",
              "      <th>bore</th>\n",
              "      <th>stroke-mesin</th>\n",
              "      <th>tingkat-kompresi</th>\n",
              "      <th>horsepower</th>\n",
              "      <th>kecepatan-putaran-mesin</th>\n",
              "      <th>Rata-rata-kecepatan-pada-kota</th>\n",
              "      <th>Rata-rata-kecepatan-pada-jalan-raya</th>\n",
              "      <th>Harga</th>\n",
              "    </tr>\n",
              "  </thead>\n",
              "  <tbody>\n",
              "    <tr>\n",
              "      <th>0</th>\n",
              "      <td>?</td>\n",
              "      <td>88.6</td>\n",
              "      <td>168.8</td>\n",
              "      <td>64.1</td>\n",
              "      <td>48.8</td>\n",
              "      <td>2548</td>\n",
              "      <td>3.47</td>\n",
              "      <td>2.68</td>\n",
              "      <td>9.0</td>\n",
              "      <td>111</td>\n",
              "      <td>5000</td>\n",
              "      <td>21</td>\n",
              "      <td>27</td>\n",
              "      <td>13495</td>\n",
              "    </tr>\n",
              "    <tr>\n",
              "      <th>1</th>\n",
              "      <td>?</td>\n",
              "      <td>88.6</td>\n",
              "      <td>168.8</td>\n",
              "      <td>64.1</td>\n",
              "      <td>48.8</td>\n",
              "      <td>2548</td>\n",
              "      <td>3.47</td>\n",
              "      <td>2.68</td>\n",
              "      <td>9.0</td>\n",
              "      <td>111</td>\n",
              "      <td>5000</td>\n",
              "      <td>21</td>\n",
              "      <td>27</td>\n",
              "      <td>16500</td>\n",
              "    </tr>\n",
              "    <tr>\n",
              "      <th>2</th>\n",
              "      <td>?</td>\n",
              "      <td>94.5</td>\n",
              "      <td>171.2</td>\n",
              "      <td>65.5</td>\n",
              "      <td>52.4</td>\n",
              "      <td>2823</td>\n",
              "      <td>2.68</td>\n",
              "      <td>3.47</td>\n",
              "      <td>9.0</td>\n",
              "      <td>154</td>\n",
              "      <td>5000</td>\n",
              "      <td>19</td>\n",
              "      <td>26</td>\n",
              "      <td>16500</td>\n",
              "    </tr>\n",
              "    <tr>\n",
              "      <th>3</th>\n",
              "      <td>164</td>\n",
              "      <td>99.8</td>\n",
              "      <td>176.6</td>\n",
              "      <td>66.2</td>\n",
              "      <td>54.3</td>\n",
              "      <td>2337</td>\n",
              "      <td>3.19</td>\n",
              "      <td>3.40</td>\n",
              "      <td>10.0</td>\n",
              "      <td>102</td>\n",
              "      <td>5500</td>\n",
              "      <td>24</td>\n",
              "      <td>30</td>\n",
              "      <td>13950</td>\n",
              "    </tr>\n",
              "    <tr>\n",
              "      <th>4</th>\n",
              "      <td>164</td>\n",
              "      <td>99.4</td>\n",
              "      <td>176.6</td>\n",
              "      <td>66.4</td>\n",
              "      <td>54.3</td>\n",
              "      <td>2824</td>\n",
              "      <td>3.19</td>\n",
              "      <td>3.40</td>\n",
              "      <td>8.0</td>\n",
              "      <td>115</td>\n",
              "      <td>5500</td>\n",
              "      <td>18</td>\n",
              "      <td>22</td>\n",
              "      <td>17450</td>\n",
              "    </tr>\n",
              "  </tbody>\n",
              "</table>\n",
              "</div>"
            ],
            "text/plain": [
              "  Kerugian  jenis-roda  ...  Rata-rata-kecepatan-pada-jalan-raya  Harga\n",
              "0        ?        88.6  ...                                   27  13495\n",
              "1        ?        88.6  ...                                   27  16500\n",
              "2        ?        94.5  ...                                   26  16500\n",
              "3      164        99.8  ...                                   30  13950\n",
              "4      164        99.4  ...                                   22  17450\n",
              "\n",
              "[5 rows x 14 columns]"
            ]
          },
          "metadata": {
            "tags": []
          },
          "execution_count": 101
        }
      ]
    },
    {
      "cell_type": "markdown",
      "metadata": {
        "id": "yq4ijRl4I7lF"
      },
      "source": [
        "pada tabel diatas berisikan tabel pilihan untuk menentukan apakah harga mobil dipengaruhi oleh tabel diatas yang berisikan jenis kerugian, jenis roda, panjang kendaraannya,lebar,tinggi,dsb"
      ]
    },
    {
      "cell_type": "markdown",
      "metadata": {
        "id": "pDgJZrDrJRSO"
      },
      "source": [
        "selanjutnya dilakukan dengan proses selanjutnya yaitu pembersihan data. yang tidak memiliki atribut dengan menambahkan tulisan NAN"
      ]
    },
    {
      "cell_type": "code",
      "metadata": {
        "colab": {
          "base_uri": "https://localhost:8080/",
          "height": 241
        },
        "id": "W2psxoP3JZdd",
        "outputId": "0305de4b-02d3-43ba-e9cd-2caaf9cef239"
      },
      "source": [
        "data = data.replace('?', np.nan)\n",
        "data.head()"
      ],
      "execution_count": null,
      "outputs": [
        {
          "output_type": "execute_result",
          "data": {
            "text/html": [
              "<div>\n",
              "<style scoped>\n",
              "    .dataframe tbody tr th:only-of-type {\n",
              "        vertical-align: middle;\n",
              "    }\n",
              "\n",
              "    .dataframe tbody tr th {\n",
              "        vertical-align: top;\n",
              "    }\n",
              "\n",
              "    .dataframe thead th {\n",
              "        text-align: right;\n",
              "    }\n",
              "</style>\n",
              "<table border=\"1\" class=\"dataframe\">\n",
              "  <thead>\n",
              "    <tr style=\"text-align: right;\">\n",
              "      <th></th>\n",
              "      <th>Kerugian</th>\n",
              "      <th>jenis-roda</th>\n",
              "      <th>Panjang-kendaraan</th>\n",
              "      <th>Lebar-kendaraan</th>\n",
              "      <th>Tinggi-kendaraan</th>\n",
              "      <th>Kapasitas</th>\n",
              "      <th>bore</th>\n",
              "      <th>stroke-mesin</th>\n",
              "      <th>tingkat-kompresi</th>\n",
              "      <th>horsepower</th>\n",
              "      <th>kecepatan-putaran-mesin</th>\n",
              "      <th>Rata-rata-kecepatan-pada-kota</th>\n",
              "      <th>Rata-rata-kecepatan-pada-jalan-raya</th>\n",
              "      <th>Harga</th>\n",
              "    </tr>\n",
              "  </thead>\n",
              "  <tbody>\n",
              "    <tr>\n",
              "      <th>0</th>\n",
              "      <td>NaN</td>\n",
              "      <td>88.6</td>\n",
              "      <td>168.8</td>\n",
              "      <td>64.1</td>\n",
              "      <td>48.8</td>\n",
              "      <td>2548</td>\n",
              "      <td>3.47</td>\n",
              "      <td>2.68</td>\n",
              "      <td>9.0</td>\n",
              "      <td>111</td>\n",
              "      <td>5000</td>\n",
              "      <td>21</td>\n",
              "      <td>27</td>\n",
              "      <td>13495</td>\n",
              "    </tr>\n",
              "    <tr>\n",
              "      <th>1</th>\n",
              "      <td>NaN</td>\n",
              "      <td>88.6</td>\n",
              "      <td>168.8</td>\n",
              "      <td>64.1</td>\n",
              "      <td>48.8</td>\n",
              "      <td>2548</td>\n",
              "      <td>3.47</td>\n",
              "      <td>2.68</td>\n",
              "      <td>9.0</td>\n",
              "      <td>111</td>\n",
              "      <td>5000</td>\n",
              "      <td>21</td>\n",
              "      <td>27</td>\n",
              "      <td>16500</td>\n",
              "    </tr>\n",
              "    <tr>\n",
              "      <th>2</th>\n",
              "      <td>NaN</td>\n",
              "      <td>94.5</td>\n",
              "      <td>171.2</td>\n",
              "      <td>65.5</td>\n",
              "      <td>52.4</td>\n",
              "      <td>2823</td>\n",
              "      <td>2.68</td>\n",
              "      <td>3.47</td>\n",
              "      <td>9.0</td>\n",
              "      <td>154</td>\n",
              "      <td>5000</td>\n",
              "      <td>19</td>\n",
              "      <td>26</td>\n",
              "      <td>16500</td>\n",
              "    </tr>\n",
              "    <tr>\n",
              "      <th>3</th>\n",
              "      <td>164</td>\n",
              "      <td>99.8</td>\n",
              "      <td>176.6</td>\n",
              "      <td>66.2</td>\n",
              "      <td>54.3</td>\n",
              "      <td>2337</td>\n",
              "      <td>3.19</td>\n",
              "      <td>3.40</td>\n",
              "      <td>10.0</td>\n",
              "      <td>102</td>\n",
              "      <td>5500</td>\n",
              "      <td>24</td>\n",
              "      <td>30</td>\n",
              "      <td>13950</td>\n",
              "    </tr>\n",
              "    <tr>\n",
              "      <th>4</th>\n",
              "      <td>164</td>\n",
              "      <td>99.4</td>\n",
              "      <td>176.6</td>\n",
              "      <td>66.4</td>\n",
              "      <td>54.3</td>\n",
              "      <td>2824</td>\n",
              "      <td>3.19</td>\n",
              "      <td>3.40</td>\n",
              "      <td>8.0</td>\n",
              "      <td>115</td>\n",
              "      <td>5500</td>\n",
              "      <td>18</td>\n",
              "      <td>22</td>\n",
              "      <td>17450</td>\n",
              "    </tr>\n",
              "  </tbody>\n",
              "</table>\n",
              "</div>"
            ],
            "text/plain": [
              "  Kerugian  jenis-roda  ...  Rata-rata-kecepatan-pada-jalan-raya  Harga\n",
              "0      NaN        88.6  ...                                   27  13495\n",
              "1      NaN        88.6  ...                                   27  16500\n",
              "2      NaN        94.5  ...                                   26  16500\n",
              "3      164        99.8  ...                                   30  13950\n",
              "4      164        99.4  ...                                   22  17450\n",
              "\n",
              "[5 rows x 14 columns]"
            ]
          },
          "metadata": {
            "tags": []
          },
          "execution_count": 102
        }
      ]
    },
    {
      "cell_type": "markdown",
      "metadata": {
        "id": "EOqTfX-sM21L"
      },
      "source": [
        "kenapa diberikan pada kode berupa tanda tanya (?) karena pada tabel tersebut dan tanda tanya merupakan sebuah tipe string. \n",
        "pada tabel terdapat value kosong. untuk meminimalisir eror diperlukan proses data cleaning.\n"
      ]
    },
    {
      "cell_type": "code",
      "metadata": {
        "colab": {
          "base_uri": "https://localhost:8080/"
        },
        "id": "NK2YlK2LJ8Am",
        "outputId": "02f45248-9193-4d82-8100-c86c278afe58"
      },
      "source": [
        "data = data.astype('float')\n",
        "data.isnull().sum()"
      ],
      "execution_count": null,
      "outputs": [
        {
          "output_type": "execute_result",
          "data": {
            "text/plain": [
              "Kerugian                               41\n",
              "jenis-roda                              0\n",
              "Panjang-kendaraan                       0\n",
              "Lebar-kendaraan                         0\n",
              "Tinggi-kendaraan                        0\n",
              "Kapasitas                               0\n",
              "bore                                    4\n",
              "stroke-mesin                            4\n",
              "tingkat-kompresi                        0\n",
              "horsepower                              2\n",
              "kecepatan-putaran-mesin                 2\n",
              "Rata-rata-kecepatan-pada-kota           0\n",
              "Rata-rata-kecepatan-pada-jalan-raya     0\n",
              "Harga                                   4\n",
              "dtype: int64"
            ]
          },
          "metadata": {
            "tags": []
          },
          "execution_count": 103
        }
      ]
    },
    {
      "cell_type": "markdown",
      "metadata": {
        "id": "5nh_ydmuKHIE"
      },
      "source": [
        "pada proses ini untuk mengetahui pada colom mana yang terdapat atribut yang kosong. sehingga kita dapat melakukan proses pembersihan data tersebut.\n",
        "\n",
        "dan pada tahap selanjutnya kita akan melakukan pembersihan atribut kosong pada kolom [\"Harga\"] dikarenakan pada kolom ini kita ingin untuk diprediksi."
      ]
    },
    {
      "cell_type": "code",
      "metadata": {
        "colab": {
          "base_uri": "https://localhost:8080/"
        },
        "id": "qKKNjxVrKfrc",
        "outputId": "44c7b99a-174f-4d83-869d-982db049b044"
      },
      "source": [
        "data = data.dropna(subset=['Harga'])\n",
        "data.isnull().sum()"
      ],
      "execution_count": null,
      "outputs": [
        {
          "output_type": "execute_result",
          "data": {
            "text/plain": [
              "Kerugian                               37\n",
              "jenis-roda                              0\n",
              "Panjang-kendaraan                       0\n",
              "Lebar-kendaraan                         0\n",
              "Tinggi-kendaraan                        0\n",
              "Kapasitas                               0\n",
              "bore                                    4\n",
              "stroke-mesin                            4\n",
              "tingkat-kompresi                        0\n",
              "horsepower                              2\n",
              "kecepatan-putaran-mesin                 2\n",
              "Rata-rata-kecepatan-pada-kota           0\n",
              "Rata-rata-kecepatan-pada-jalan-raya     0\n",
              "Harga                                   0\n",
              "dtype: int64"
            ]
          },
          "metadata": {
            "tags": []
          },
          "execution_count": 104
        }
      ]
    },
    {
      "cell_type": "markdown",
      "metadata": {
        "id": "BWNZY_qQLELk"
      },
      "source": [
        "pada tahap selanjutnya dilakukan proses pembersihan yang tersisa. dilakukan pembersihan dengan menggunakan fitur bawaan google colab."
      ]
    },
    {
      "cell_type": "code",
      "metadata": {
        "id": "D06UTcSyLODk"
      },
      "source": [
        "data = data.fillna(data.mean())"
      ],
      "execution_count": null,
      "outputs": []
    },
    {
      "cell_type": "markdown",
      "metadata": {
        "id": "cuCbSP_4LUtE"
      },
      "source": [
        "lalu selanjutnya apakah tabel tersebut sudah bersih dari value kosong."
      ]
    },
    {
      "cell_type": "code",
      "metadata": {
        "colab": {
          "base_uri": "https://localhost:8080/"
        },
        "id": "nm4x1NCGLbi0",
        "outputId": "d3981a77-9436-4871-daca-1482a8a92e0a"
      },
      "source": [
        "data.isnull().sum()"
      ],
      "execution_count": null,
      "outputs": [
        {
          "output_type": "execute_result",
          "data": {
            "text/plain": [
              "Kerugian                               0\n",
              "jenis-roda                             0\n",
              "Panjang-kendaraan                      0\n",
              "Lebar-kendaraan                        0\n",
              "Tinggi-kendaraan                       0\n",
              "Kapasitas                              0\n",
              "bore                                   0\n",
              "stroke-mesin                           0\n",
              "tingkat-kompresi                       0\n",
              "horsepower                             0\n",
              "kecepatan-putaran-mesin                0\n",
              "Rata-rata-kecepatan-pada-kota          0\n",
              "Rata-rata-kecepatan-pada-jalan-raya    0\n",
              "Harga                                  0\n",
              "dtype: int64"
            ]
          },
          "metadata": {
            "tags": []
          },
          "execution_count": 106
        }
      ]
    },
    {
      "cell_type": "markdown",
      "metadata": {
        "id": "F9mUlX-TLgez"
      },
      "source": [
        "lalu kita melakukan persekalaan fitur pada tabel yang telah kita inputkan."
      ]
    },
    {
      "cell_type": "code",
      "metadata": {
        "colab": {
          "base_uri": "https://localhost:8080/",
          "height": 352
        },
        "id": "P5eTec5RLn-M",
        "outputId": "06aa0d43-05c1-4be5-9e26-afd6ea4757fa"
      },
      "source": [
        "target = data['Harga']\n",
        "data = (data - data.min())/(data.max() - data.min())\n",
        "data['Harga'] = target\n",
        "data.describe()"
      ],
      "execution_count": null,
      "outputs": [
        {
          "output_type": "execute_result",
          "data": {
            "text/html": [
              "<div>\n",
              "<style scoped>\n",
              "    .dataframe tbody tr th:only-of-type {\n",
              "        vertical-align: middle;\n",
              "    }\n",
              "\n",
              "    .dataframe tbody tr th {\n",
              "        vertical-align: top;\n",
              "    }\n",
              "\n",
              "    .dataframe thead th {\n",
              "        text-align: right;\n",
              "    }\n",
              "</style>\n",
              "<table border=\"1\" class=\"dataframe\">\n",
              "  <thead>\n",
              "    <tr style=\"text-align: right;\">\n",
              "      <th></th>\n",
              "      <th>Kerugian</th>\n",
              "      <th>jenis-roda</th>\n",
              "      <th>Panjang-kendaraan</th>\n",
              "      <th>Lebar-kendaraan</th>\n",
              "      <th>Tinggi-kendaraan</th>\n",
              "      <th>Kapasitas</th>\n",
              "      <th>bore</th>\n",
              "      <th>stroke-mesin</th>\n",
              "      <th>tingkat-kompresi</th>\n",
              "      <th>horsepower</th>\n",
              "      <th>kecepatan-putaran-mesin</th>\n",
              "      <th>Rata-rata-kecepatan-pada-kota</th>\n",
              "      <th>Rata-rata-kecepatan-pada-jalan-raya</th>\n",
              "      <th>Harga</th>\n",
              "    </tr>\n",
              "  </thead>\n",
              "  <tbody>\n",
              "    <tr>\n",
              "      <th>count</th>\n",
              "      <td>201.000000</td>\n",
              "      <td>201.000000</td>\n",
              "      <td>201.000000</td>\n",
              "      <td>201.000000</td>\n",
              "      <td>201.000000</td>\n",
              "      <td>201.000000</td>\n",
              "      <td>201.000000</td>\n",
              "      <td>201.000000</td>\n",
              "      <td>201.000000</td>\n",
              "      <td>201.000000</td>\n",
              "      <td>201.000000</td>\n",
              "      <td>201.000000</td>\n",
              "      <td>201.000000</td>\n",
              "      <td>201.000000</td>\n",
              "    </tr>\n",
              "    <tr>\n",
              "      <th>mean</th>\n",
              "      <td>0.298429</td>\n",
              "      <td>0.355598</td>\n",
              "      <td>0.494045</td>\n",
              "      <td>0.477697</td>\n",
              "      <td>0.497222</td>\n",
              "      <td>0.414145</td>\n",
              "      <td>0.564793</td>\n",
              "      <td>0.565192</td>\n",
              "      <td>0.197767</td>\n",
              "      <td>0.258864</td>\n",
              "      <td>0.394934</td>\n",
              "      <td>0.338308</td>\n",
              "      <td>0.386489</td>\n",
              "      <td>13207.129353</td>\n",
              "    </tr>\n",
              "    <tr>\n",
              "      <th>std</th>\n",
              "      <td>0.167520</td>\n",
              "      <td>0.176862</td>\n",
              "      <td>0.183913</td>\n",
              "      <td>0.179613</td>\n",
              "      <td>0.203985</td>\n",
              "      <td>0.200658</td>\n",
              "      <td>0.191480</td>\n",
              "      <td>0.150499</td>\n",
              "      <td>0.250310</td>\n",
              "      <td>0.174606</td>\n",
              "      <td>0.195148</td>\n",
              "      <td>0.178423</td>\n",
              "      <td>0.179346</td>\n",
              "      <td>7947.066342</td>\n",
              "    </tr>\n",
              "    <tr>\n",
              "      <th>min</th>\n",
              "      <td>0.000000</td>\n",
              "      <td>0.000000</td>\n",
              "      <td>0.000000</td>\n",
              "      <td>0.000000</td>\n",
              "      <td>0.000000</td>\n",
              "      <td>0.000000</td>\n",
              "      <td>0.000000</td>\n",
              "      <td>0.000000</td>\n",
              "      <td>0.000000</td>\n",
              "      <td>0.000000</td>\n",
              "      <td>0.000000</td>\n",
              "      <td>0.000000</td>\n",
              "      <td>0.000000</td>\n",
              "      <td>5118.000000</td>\n",
              "    </tr>\n",
              "    <tr>\n",
              "      <th>25%</th>\n",
              "      <td>0.188482</td>\n",
              "      <td>0.230321</td>\n",
              "      <td>0.383582</td>\n",
              "      <td>0.324786</td>\n",
              "      <td>0.350000</td>\n",
              "      <td>0.264158</td>\n",
              "      <td>0.435714</td>\n",
              "      <td>0.495238</td>\n",
              "      <td>0.100000</td>\n",
              "      <td>0.102804</td>\n",
              "      <td>0.265306</td>\n",
              "      <td>0.166667</td>\n",
              "      <td>0.236842</td>\n",
              "      <td>7775.000000</td>\n",
              "    </tr>\n",
              "    <tr>\n",
              "      <th>50%</th>\n",
              "      <td>0.298429</td>\n",
              "      <td>0.303207</td>\n",
              "      <td>0.479104</td>\n",
              "      <td>0.444444</td>\n",
              "      <td>0.525000</td>\n",
              "      <td>0.359193</td>\n",
              "      <td>0.550000</td>\n",
              "      <td>0.580952</td>\n",
              "      <td>0.125000</td>\n",
              "      <td>0.219626</td>\n",
              "      <td>0.394934</td>\n",
              "      <td>0.305556</td>\n",
              "      <td>0.368421</td>\n",
              "      <td>10295.000000</td>\n",
              "    </tr>\n",
              "    <tr>\n",
              "      <th>75%</th>\n",
              "      <td>0.376963</td>\n",
              "      <td>0.460641</td>\n",
              "      <td>0.632836</td>\n",
              "      <td>0.538462</td>\n",
              "      <td>0.641667</td>\n",
              "      <td>0.557797</td>\n",
              "      <td>0.742857</td>\n",
              "      <td>0.638095</td>\n",
              "      <td>0.150000</td>\n",
              "      <td>0.317757</td>\n",
              "      <td>0.551020</td>\n",
              "      <td>0.472222</td>\n",
              "      <td>0.473684</td>\n",
              "      <td>16500.000000</td>\n",
              "    </tr>\n",
              "    <tr>\n",
              "      <th>max</th>\n",
              "      <td>1.000000</td>\n",
              "      <td>1.000000</td>\n",
              "      <td>1.000000</td>\n",
              "      <td>1.000000</td>\n",
              "      <td>1.000000</td>\n",
              "      <td>1.000000</td>\n",
              "      <td>1.000000</td>\n",
              "      <td>1.000000</td>\n",
              "      <td>1.000000</td>\n",
              "      <td>1.000000</td>\n",
              "      <td>1.000000</td>\n",
              "      <td>1.000000</td>\n",
              "      <td>1.000000</td>\n",
              "      <td>45400.000000</td>\n",
              "    </tr>\n",
              "  </tbody>\n",
              "</table>\n",
              "</div>"
            ],
            "text/plain": [
              "         Kerugian  ...         Harga\n",
              "count  201.000000  ...    201.000000\n",
              "mean     0.298429  ...  13207.129353\n",
              "std      0.167520  ...   7947.066342\n",
              "min      0.000000  ...   5118.000000\n",
              "25%      0.188482  ...   7775.000000\n",
              "50%      0.298429  ...  10295.000000\n",
              "75%      0.376963  ...  16500.000000\n",
              "max      1.000000  ...  45400.000000\n",
              "\n",
              "[8 rows x 14 columns]"
            ]
          },
          "metadata": {
            "tags": []
          },
          "execution_count": 107
        }
      ]
    },
    {
      "cell_type": "markdown",
      "metadata": {
        "id": "EAizy_r-LuTD"
      },
      "source": [
        "lalu kita melakukan tahap proses pemodelan data pada data yang sebelumnya sudah kita bersihkan dari value kosongnya. dan kita menggukan algoritma KNN untuk mempermudahkan dalam proses prediksi harga mobil kali ini."
      ]
    },
    {
      "cell_type": "code",
      "metadata": {
        "id": "U1FCAPMhL0zs"
      },
      "source": [
        "from sklearn.neighbors import KNeighborsRegressor\n",
        "from sklearn.metrics import mean_squared_error, r2_score\n",
        "\n",
        "def knn_train_test(train_col, target_col, data):\n",
        "\n",
        "   # inisialisasi knn regressor\n",
        "    knn = KNeighborsRegressor()\n",
        "    np.random.seed(41)\n",
        "        \n",
        "    # Ubah urutan dalam data\n",
        "    shuffled_index = np.random.permutation(data.index)\n",
        "    rand_data = data.reindex(shuffled_index)\n",
        "\n",
        "    # Tentukan paruh pertama data\n",
        "    last_train_row = int(len(rand_data) / 2)\n",
        "    \n",
        "    # Pilih pada tabel pertama dan tetapkan sebagai set pelatihan\n",
        "    # Pilih tabel kedua dan tetapkan sebagai set tes\n",
        "    train_data = rand_data.iloc[0:last_train_row]\n",
        "    test_data = rand_data.iloc[last_train_row:]\n",
        "    \n",
        "    # memasang model KNN menggunakan nilai k default\n",
        "    knn.fit(train_data[[train_col]], train_data[target_col])\n",
        "    \n",
        "    # membuat prediksi menggunakan model KNN\n",
        "    prediction = knn.predict(test_data[[train_col]])\n",
        "    \n",
        "    # Calculate r2 score\n",
        "    r2 = r2_score(test_data[target_col], prediction)\n",
        "\n",
        "    return r2"
      ],
      "execution_count": null,
      "outputs": []
    },
    {
      "cell_type": "code",
      "metadata": {
        "colab": {
          "base_uri": "https://localhost:8080/"
        },
        "id": "g4DZTQlsMpW0",
        "outputId": "525f6678-6bf8-4736-dde3-e3201eee21a2"
      },
      "source": [
        "rmse_results = dict()\n",
        "train_cols = data.columns.drop('Harga')\n",
        "\n",
        "for col in train_cols:\n",
        "    rmse_val = knn_train_test(col, 'Harga', data)\n",
        "    rmse_results[col] = rmse_val\n",
        "\n",
        "rmse_results_series = pd.Series(rmse_results)\n",
        "rmse_results_series.sort_values(ascending=False)"
      ],
      "execution_count": null,
      "outputs": [
        {
          "output_type": "execute_result",
          "data": {
            "text/plain": [
              "horsepower                             0.761284\n",
              "Rata-rata-kecepatan-pada-jalan-raya    0.695403\n",
              "Rata-rata-kecepatan-pada-kota          0.668424\n",
              "Kapasitas                              0.627654\n",
              "Lebar-kendaraan                        0.542221\n",
              "Panjang-kendaraan                      0.500840\n",
              "jenis-roda                             0.293620\n",
              "bore                                   0.248743\n",
              "tingkat-kompresi                       0.244536\n",
              "Kerugian                               0.181538\n",
              "stroke-mesin                           0.049243\n",
              "kecepatan-putaran-mesin                0.001608\n",
              "Tinggi-kendaraan                      -0.046938\n",
              "dtype: float64"
            ]
          },
          "metadata": {
            "tags": []
          },
          "execution_count": 109
        }
      ]
    },
    {
      "cell_type": "markdown",
      "metadata": {
        "id": "ibgs2uapOuEa"
      },
      "source": [
        "pada tahap kali ini dengan melakukan evaluasi pada hasil dengan mengambil data hasil horsepower mobil dikarenakan memiliki score r2 tertinggi. kemungkinan horsepower ini mempengaruhi harga mobil tersebut.\n",
        "\n",
        "dan mengambil data panjang kendaraan. kemungkinan hal ini juga dapat mempengaruhi harga mobil."
      ]
    },
    {
      "cell_type": "code",
      "metadata": {
        "colab": {
          "base_uri": "https://localhost:8080/",
          "height": 312
        },
        "id": "ybZXa_dpNovr",
        "outputId": "06eb6098-69af-47bf-a330-65f45d85de3c"
      },
      "source": [
        "%matplotlib inline\n",
        "\n",
        "np.corrcoef(data['Harga'], data['horsepower'])\n",
        "plt.scatter(data['horsepower'], data['Harga'])\n",
        "plt.xlabel(\"horsepower\")\n",
        "plt.ylabel(\"Harga\")\n",
        "plt.title(\"Harga vs Horsepower\")"
      ],
      "execution_count": null,
      "outputs": [
        {
          "output_type": "execute_result",
          "data": {
            "text/plain": [
              "Text(0.5, 1.0, 'Harga vs Horsepower')"
            ]
          },
          "metadata": {
            "tags": []
          },
          "execution_count": 110
        },
        {
          "output_type": "display_data",
          "data": {
            "image/png": "[encoded data removed]",
            "text/plain": [
              "<Figure size 432x288 with 1 Axes>"
            ]
          },
          "metadata": {
            "tags": [],
            "needs_background": "light"
          }
        }
      ]
    },
    {
      "cell_type": "code",
      "metadata": {
        "colab": {
          "base_uri": "https://localhost:8080/",
          "height": 312
        },
        "id": "zIPZ_hLdNzxJ",
        "outputId": "67dacfd9-11e7-4945-a8ad-950a6a2fca67"
      },
      "source": [
        "np.corrcoef(data['Harga'], data['Panjang-kendaraan'])\n",
        "plt.scatter(data['Panjang-kendaraan'], data['Harga'])\n",
        "plt.xlabel(\"Panjang-kendaraan\")\n",
        "plt.ylabel(\"Harga\")\n",
        "plt.title(\"Harga vs Panjang-kendaraan\")"
      ],
      "execution_count": null,
      "outputs": [
        {
          "output_type": "execute_result",
          "data": {
            "text/plain": [
              "Text(0.5, 1.0, 'Harga vs Panjang-kendaraan')"
            ]
          },
          "metadata": {
            "tags": []
          },
          "execution_count": 111
        },
        {
          "output_type": "display_data",
          "data": {
            "image/png": "[encoded data removed]",
            "text/plain": [
              "<Figure size 432x288 with 1 Axes>"
            ]
          },
          "metadata": {
            "tags": [],
            "needs_background": "light"
          }
        }
      ]
    },
    {
      "cell_type": "code",
      "metadata": {
        "id": "aAvfFEldPYYh"
      },
      "source": [
        "def knn_train_test_with_k(train_col, target_col, data, lst_k_values):\n",
        "\n",
        "    np.random.seed(41)\n",
        "        \n",
        "    shuffled_index = np.random.permutation(data.index)\n",
        "    rand_data = data.reindex(shuffled_index)\n",
        "\n",
        "    last_train_row = int(len(rand_data) / 2)\n",
        "    \n",
        "    train_data = rand_data.iloc[0:last_train_row]\n",
        "    test_data = rand_data.iloc[last_train_row:]\n",
        "    \n",
        "    k_r2 = {}\n",
        "    \n",
        "    for k in lst_k_values:\n",
        "        # Fit model using k nearest neighbors\n",
        "        knn = KNeighborsRegressor(n_neighbors=k)\n",
        "        knn.fit(train_data[[train_col]], train_data[target_col])\n",
        "\n",
        "        # Make predictions using model with parameter k\n",
        "        predicted_labels = knn.predict(test_data[[train_col]])\n",
        "\n",
        "        # Calculate and return r2 score\n",
        "        r2 = r2_score(test_data[target_col], predicted_labels)\n",
        "        \n",
        "        k_r2[k] = r2\n",
        "        \n",
        "    return k_r2"
      ],
      "execution_count": null,
      "outputs": []
    },
    {
      "cell_type": "code",
      "metadata": {
        "colab": {
          "base_uri": "https://localhost:8080/"
        },
        "id": "-JZQZhnJPcTg",
        "outputId": "4e4c650b-ad9b-4937-bc21-2335ceecd7f5"
      },
      "source": [
        "k_r2_results = {}\n",
        "\n",
        "train_cols = data.columns.drop('Harga')\n",
        "for col in train_cols:\n",
        "    r2_val = knn_train_test_with_k(col, 'Harga', data, lst_k_values=[1,3,5,7,9,11,13,15,20])\n",
        "    k_r2_results[col] = r2_val\n",
        "\n",
        "k_r2_results"
      ],
      "execution_count": null,
      "outputs": [
        {
          "output_type": "execute_result",
          "data": {
            "text/plain": [
              "{'Kapasitas': {1: 0.4344317601261617,\n",
              "  3: 0.5541364995438716,\n",
              "  5: 0.6276543235169999,\n",
              "  7: 0.6458119033491309,\n",
              "  9: 0.6374280311872131,\n",
              "  11: 0.618411233439343,\n",
              "  13: 0.6100309915211192,\n",
              "  15: 0.5879079639235119,\n",
              "  20: 0.5802663501280053},\n",
              " 'Kerugian': {1: -0.20347877150311544,\n",
              "  3: 0.17182725146471145,\n",
              "  5: 0.18153843512468892,\n",
              "  7: 0.10083702893110358,\n",
              "  9: 0.182362509395823,\n",
              "  11: 0.18031169148017767,\n",
              "  13: 0.16974371713072933,\n",
              "  15: 0.1341773639203342,\n",
              "  20: 0.0667826878105201},\n",
              " 'Lebar-kendaraan': {1: 0.7138978548128321,\n",
              "  3: 0.5917872893952195,\n",
              "  5: 0.5422211099152492,\n",
              "  7: 0.5087479104832227,\n",
              "  9: 0.49400488832784184,\n",
              "  11: 0.49544659225107635,\n",
              "  13: 0.4748648828312273,\n",
              "  15: 0.46589314269340854,\n",
              "  20: 0.4181362493867924},\n",
              " 'Panjang-kendaraan': {1: 0.44811624375935755,\n",
              "  3: 0.47755642151821065,\n",
              "  5: 0.5008398379078013,\n",
              "  7: 0.4494274006708693,\n",
              "  9: 0.4158077529868751,\n",
              "  11: 0.3978756122950492,\n",
              "  13: 0.3999642309399496,\n",
              "  15: 0.3873973361782471,\n",
              "  20: 0.3741386387457387},\n",
              " 'Rata-rata-kecepatan-pada-jalan-raya': {1: 0.5552104902091517,\n",
              "  3: 0.7002064962010035,\n",
              "  5: 0.6954033408422096,\n",
              "  7: 0.6780040850502695,\n",
              "  9: 0.6668544550377844,\n",
              "  11: 0.6339638556552454,\n",
              "  13: 0.5926790372812158,\n",
              "  15: 0.5653690854498343,\n",
              "  20: 0.5300989657617556},\n",
              " 'Rata-rata-kecepatan-pada-kota': {1: 0.645086326024572,\n",
              "  3: 0.6708318091986238,\n",
              "  5: 0.6684244119005729,\n",
              "  7: 0.6129819574543349,\n",
              "  9: 0.6019164298058262,\n",
              "  11: 0.6009925105849733,\n",
              "  13: 0.6109863403949236,\n",
              "  15: 0.5849554577391467,\n",
              "  20: 0.5554490691485593},\n",
              " 'Tinggi-kendaraan': {1: -0.34750232697831507,\n",
              "  3: 0.012670204039874844,\n",
              "  5: -0.046938163034020874,\n",
              "  7: 0.015282983353519075,\n",
              "  9: 0.021379205655576827,\n",
              "  11: -0.04193631550265353,\n",
              "  13: -0.060119408003041386,\n",
              "  15: -0.0445003798244612,\n",
              "  20: -0.04789718105661289},\n",
              " 'bore': {1: 0.23293061869426546,\n",
              "  3: 0.2918144896891518,\n",
              "  5: 0.24874273417857606,\n",
              "  7: 0.2651695758532888,\n",
              "  9: 0.3644448735243053,\n",
              "  11: 0.36670690168638365,\n",
              "  13: 0.34030771479121713,\n",
              "  15: 0.2886539505109288,\n",
              "  20: 0.2738662454075663},\n",
              " 'horsepower': {1: 0.6082793673131655,\n",
              "  3: 0.7651409653928744,\n",
              "  5: 0.7612838636248621,\n",
              "  7: 0.7313486732278749,\n",
              "  9: 0.690430467471112,\n",
              "  11: 0.6654523386913755,\n",
              "  13: 0.6284018293519005,\n",
              "  15: 0.6145724997468027,\n",
              "  20: 0.5756592846678703},\n",
              " 'jenis-roda': {1: 0.5901895470391019,\n",
              "  3: 0.3446114130407425,\n",
              "  5: 0.29361993510864925,\n",
              "  7: 0.25849269186507307,\n",
              "  9: 0.24116785925974116,\n",
              "  11: 0.2411499427601267,\n",
              "  13: 0.21732985177662112,\n",
              "  15: 0.22993509426628334,\n",
              "  20: 0.21530706065441718},\n",
              " 'kecepatan-putaran-mesin': {1: -0.0917138518970706,\n",
              "  3: -0.06944703003948538,\n",
              "  5: 0.0016078100318174249,\n",
              "  7: -0.02156727473143727,\n",
              "  9: -0.04861466756370936,\n",
              "  11: -0.0694891503769286,\n",
              "  13: -0.025762258400936044,\n",
              "  15: -0.05119654534547169,\n",
              "  20: -0.06804677424265737},\n",
              " 'stroke-mesin': {1: -0.009557791310919495,\n",
              "  3: 0.17098084694098215,\n",
              "  5: 0.049243335637251695,\n",
              "  7: 0.023151602905364332,\n",
              "  9: 0.09238977228449086,\n",
              "  11: 0.0723641454882813,\n",
              "  13: 0.1100917046465093,\n",
              "  15: 0.09412363120075362,\n",
              "  20: 0.04881488321768279},\n",
              " 'tingkat-kompresi': {1: 0.12400206165224748,\n",
              "  3: 0.36354890008040386,\n",
              "  5: 0.24453644015304088,\n",
              "  7: 0.1687898838618337,\n",
              "  9: 0.11544680405161034,\n",
              "  11: 0.02281339505648461,\n",
              "  13: -0.012994180381237008,\n",
              "  15: 0.0026816296142917473,\n",
              "  20: 0.028819341490647687}}"
            ]
          },
          "metadata": {
            "tags": []
          },
          "execution_count": 113
        }
      ]
    },
    {
      "cell_type": "code",
      "metadata": {
        "colab": {
          "base_uri": "https://localhost:8080/",
          "height": 280
        },
        "id": "Rwk6oXhyP5ph",
        "outputId": "90bfa2d5-4252-4617-b191-12b21c932755"
      },
      "source": [
        "for k,v in k_r2_results.items():\n",
        "    x = list(v.keys())\n",
        "    y = list(v.values())\n",
        "    \n",
        "    plt.plot(x,y)\n",
        "    plt.xlabel('k value')\n",
        "    plt.ylabel('R2')"
      ],
      "execution_count": null,
      "outputs": [
        {
          "output_type": "display_data",
          "data": {
            "image/png": "[encoded data removed]",
            "text/plain": [
              "<Figure size 432x288 with 1 Axes>"
            ]
          },
          "metadata": {
            "tags": [],
            "needs_background": "light"
          }
        }
      ]
    },
    {
      "cell_type": "markdown",
      "metadata": {
        "id": "_cblWuBeQDL4"
      },
      "source": [
        "pemodelan menggunakan dasar harga kendaraan tersebut berdasarkan beberapa fitur"
      ]
    },
    {
      "cell_type": "code",
      "metadata": {
        "colab": {
          "base_uri": "https://localhost:8080/"
        },
        "id": "3fRnBPYQQTd5",
        "outputId": "0698d2e9-9ad2-40f1-e858-3d3479cda724"
      },
      "source": [
        "# Hitung RMSE rata-rata di berbagai nilai `k` untuk setiap fitur.\n",
        "feature_avg_r2 = {}\n",
        "for k,v in k_r2_results.items():\n",
        "    avg_r2 = np.mean(list(v.values()))\n",
        "    feature_avg_r2[k] = avg_r2\n",
        "    \n",
        "series_avg_r2 = pd.Series(feature_avg_r2)\n",
        "series_avg_r2.sort_values(ascending=False)"
      ],
      "execution_count": null,
      "outputs": [
        {
          "output_type": "execute_result",
          "data": {
            "text/plain": [
              "horsepower                             0.671174\n",
              "Rata-rata-kecepatan-pada-jalan-raya    0.624199\n",
              "Rata-rata-kecepatan-pada-kota          0.616847\n",
              "Kapasitas                              0.588453\n",
              "Lebar-kendaraan                        0.522778\n",
              "Panjang-kendaraan                      0.427903\n",
              "bore                                   0.296960\n",
              "jenis-roda                             0.292423\n",
              "tingkat-kompresi                       0.117516\n",
              "Kerugian                               0.109345\n",
              "stroke-mesin                           0.072400\n",
              "kecepatan-putaran-mesin               -0.049359\n",
              "Tinggi-kendaraan                      -0.059951\n",
              "dtype: float64"
            ]
          },
          "metadata": {
            "tags": []
          },
          "execution_count": 115
        }
      ]
    },
    {
      "cell_type": "code",
      "metadata": {
        "id": "WIeLBHM7QhGA"
      },
      "source": [
        "def knn_train_test_several_cols(train_cols, target_col, data, lst_k_values):\n",
        "    \n",
        "    np.random.seed(41)\n",
        "    \n",
        "    shuffled_index = np.random.permutation(data.index)\n",
        "    rand_data = data.reindex(shuffled_index)\n",
        "\n",
        "    last_train_row = int(len(rand_data) / 2)\n",
        "    \n",
        "    train_data = rand_data.iloc[0:last_train_row]\n",
        "    test_data = rand_data.iloc[last_train_row:]\n",
        "    \n",
        "    k_r2 = {}\n",
        "    \n",
        "    for k in lst_k_values:\n",
        "        knn = KNeighborsRegressor(n_neighbors=k)\n",
        "        knn.fit(train_data[train_cols], train_data[target_col])\n",
        "\n",
        "        predictions = knn.predict(test_data[train_cols])\n",
        "\n",
        "        r2 = r2_score(test_data[target_col], predictions)       \n",
        "        k_r2[k] = r2\n",
        "        \n",
        "    return k_r2"
      ],
      "execution_count": null,
      "outputs": []
    },
    {
      "cell_type": "code",
      "metadata": {
        "colab": {
          "base_uri": "https://localhost:8080/"
        },
        "id": "F338DFGJQlvo",
        "outputId": "7c82dba6-23ec-4e9a-fbad-cb0d4f88a1e6"
      },
      "source": [
        "k_r2_results = {}\n",
        "\n",
        "fitur_kedua_terbaik = ['horsepower', 'Rata-rata-kecepatan-pada-jalan-raya']\n",
        "r2 = knn_train_test_several_cols(fitur_kedua_terbaik, 'Harga', data, lst_k_values=[5])\n",
        "k_r2_results[\"fitur kedua terbaik\"] = r2\n",
        "\n",
        "fitur_ketiga_terbaik = ['horsepower', 'Rata-rata-kecepatan-pada-jalan-raya', 'Rata-rata-kecepatan-pada-kota']\n",
        "r2 = knn_train_test_several_cols(fitur_ketiga_terbaik, 'Harga',data, lst_k_values=[5])\n",
        "k_r2_results[\"fitur ketiga terbaik\"] = r2\n",
        "\n",
        "fitur_keempat_terbaik = ['horsepower', 'Rata-rata-kecepatan-pada-jalan-raya', 'Rata-rata-kecepatan-pada-kota', 'Kapasitas']\n",
        "r2 = knn_train_test_several_cols(fitur_keempat_terbaik, 'Harga',data, lst_k_values=[5])\n",
        "k_r2_results[\"fitur keempat terbaik\"] = r2\n",
        "\n",
        "fitur_kelima_terbaik = ['horsepower', 'Rata-rata-kecepatan-pada-jalan-raya', 'Rata-rata-kecepatan-pada-kota', 'Kapasitas', 'Lebar-kendaraan']\n",
        "r2 = knn_train_test_several_cols(fitur_kelima_terbaik, 'Harga',data, lst_k_values=[5])\n",
        "k_r2_results[\"fitur kelima terbaik\"] = r2\n",
        "\n",
        "fitur_keenam_terbaik = ['horsepower', 'Rata-rata-kecepatan-pada-jalan-raya', 'Rata-rata-kecepatan-pada-kota', 'Kapasitas', 'Lebar-kendaraan', 'Panjang-kendaraan']\n",
        "r2 = knn_train_test_several_cols(fitur_keenam_terbaik, 'Harga', data, lst_k_values=[5])\n",
        "k_r2_results[\"fitur keenam terbaik\"] = r2\n",
        "\n",
        "k_r2_results"
      ],
      "execution_count": null,
      "outputs": [
        {
          "output_type": "execute_result",
          "data": {
            "text/plain": [
              "{'fitur kedua terbaik': {5: 0.8241113481668854},\n",
              " 'fitur keempat terbaik': {5: 0.723983603546128},\n",
              " 'fitur keenam terbaik': {5: 0.6641560224765133},\n",
              " 'fitur kelima terbaik': {5: 0.7441649498484615},\n",
              " 'fitur ketiga terbaik': {5: 0.7950901234215013}}"
            ]
          },
          "metadata": {
            "tags": []
          },
          "execution_count": 118
        }
      ]
    },
    {
      "cell_type": "markdown",
      "metadata": {
        "id": "YSYY5h75STiv"
      },
      "source": [
        "Analisis ini menyarankan bahwa kita hanya perlu mempertimbangkan dua fitur terbaik tetapi mari kita juga mempertimbangkan nilai-k yang berbeda:"
      ]
    },
    {
      "cell_type": "code",
      "metadata": {
        "colab": {
          "base_uri": "https://localhost:8080/"
        },
        "id": "CAErHpevSXpX",
        "outputId": "4c505337-82fa-4088-980b-568c9cdbeb8a"
      },
      "source": [
        "k_r2_results = {}\n",
        "\n",
        "fitur_kedua_terbaik = ['horsepower', 'Rata-rata-kecepatan-pada-jalan-raya']\n",
        "r2 = knn_train_test_several_cols(fitur_kedua_terbaik, 'Harga', data, lst_k_values=range(1,25))\n",
        "k_r2_results[\"fitur kedua terbaik\"] = r2\n",
        "\n",
        "fitur_ketiga_terbaik = ['horsepower', 'Rata-rata-kecepatan-pada-jalan-raya', 'Rata-rata-kecepatan-pada-kota']\n",
        "r2 = knn_train_test_several_cols(fitur_ketiga_terbaik, 'Harga', data, lst_k_values=range(1,25))\n",
        "k_r2_results[\"fitur ketiga terbaik\"] = r2\n",
        "\n",
        "fitur_keempat_terbaik = ['horsepower', 'Rata-rata-kecepatan-pada-jalan-raya', 'Rata-rata-kecepatan-pada-kota', 'Kapasitas']\n",
        "r2 = knn_train_test_several_cols(fitur_keempat_terbaik, 'Harga', data, lst_k_values=range(1,25))\n",
        "k_r2_results[\"fitur keempat terbaik\"] = r2\n",
        "\n",
        "fitur_kelima_terbaik = ['horsepower', 'Rata-rata-kecepatan-pada-jalan-raya', 'Rata-rata-kecepatan-pada-kota', 'Kapasitas', 'Lebar-kendaraan']\n",
        "r2 = knn_train_test_several_cols(fitur_kelima_terbaik, 'Harga', data, lst_k_values=range(1,25))\n",
        "k_r2_results[\"fitur kelima terbaik\"] = r2\n",
        "\n",
        "fitur_keenam_terbaik = ['horsepower', 'Rata-rata-kecepatan-pada-jalan-raya', 'Rata-rata-kecepatan-pada-kota', 'Kapasitas', 'Lebar-kendaraan', 'Panjang-kendaraan']\n",
        "r2 = knn_train_test_several_cols(fitur_keenam_terbaik, 'Harga', data, lst_k_values=range(1,25))\n",
        "k_r2_results[\"fitur keenam terbaik\"] = r2\n",
        "\n",
        "k_r2_results"
      ],
      "execution_count": null,
      "outputs": [
        {
          "output_type": "execute_result",
          "data": {
            "text/plain": [
              "{'fitur kedua terbaik': {1: 0.7972490549835201,\n",
              "  2: 0.8391610724523819,\n",
              "  3: 0.8489909178962664,\n",
              "  4: 0.8532159722018143,\n",
              "  5: 0.8241113481668854,\n",
              "  6: 0.7943961198698811,\n",
              "  7: 0.7671789127476027,\n",
              "  8: 0.7465974895386502,\n",
              "  9: 0.7289553838860114,\n",
              "  10: 0.7035422325780416,\n",
              "  11: 0.6840544560588764,\n",
              "  12: 0.6698465793386335,\n",
              "  13: 0.6571572278217311,\n",
              "  14: 0.6800780033656755,\n",
              "  15: 0.6657657505066313,\n",
              "  16: 0.6444345550339012,\n",
              "  17: 0.6238612210508845,\n",
              "  18: 0.6206205428756615,\n",
              "  19: 0.6230872591464176,\n",
              "  20: 0.6134098003546615,\n",
              "  21: 0.6148699862901881,\n",
              "  22: 0.6193907133182002,\n",
              "  23: 0.6203226275857616,\n",
              "  24: 0.6193819090912325},\n",
              " 'fitur keempat terbaik': {1: 0.8047603238518476,\n",
              "  2: 0.8247656542588517,\n",
              "  3: 0.7704875276866002,\n",
              "  4: 0.7523767426289667,\n",
              "  5: 0.723983603546128,\n",
              "  6: 0.7048824773066615,\n",
              "  7: 0.6951452916800063,\n",
              "  8: 0.6953036962817771,\n",
              "  9: 0.6800375494598305,\n",
              "  10: 0.682115511729422,\n",
              "  11: 0.6806665034649384,\n",
              "  12: 0.6668683935454598,\n",
              "  13: 0.6589067989351103,\n",
              "  14: 0.6458586915365956,\n",
              "  15: 0.6405119544480342,\n",
              "  16: 0.6428137054765326,\n",
              "  17: 0.6392356454799045,\n",
              "  18: 0.6364490043163076,\n",
              "  19: 0.6378695126732714,\n",
              "  20: 0.6388263612018534,\n",
              "  21: 0.6434406909807497,\n",
              "  22: 0.6399133426481654,\n",
              "  23: 0.6357766349604987,\n",
              "  24: 0.626966316627249},\n",
              " 'fitur keenam terbaik': {1: 0.7322773247999579,\n",
              "  2: 0.6924430954319774,\n",
              "  3: 0.65586279171192,\n",
              "  4: 0.6775625509826059,\n",
              "  5: 0.6641560224765133,\n",
              "  6: 0.67190077938274,\n",
              "  7: 0.6644994157145201,\n",
              "  8: 0.6610802656423838,\n",
              "  9: 0.6791962427427853,\n",
              "  10: 0.6754996367312187,\n",
              "  11: 0.6769306215169777,\n",
              "  12: 0.6780641203116123,\n",
              "  13: 0.6719862862759329,\n",
              "  14: 0.6698345651361131,\n",
              "  15: 0.6632187749248419,\n",
              "  16: 0.6600543812972484,\n",
              "  17: 0.6548985532560422,\n",
              "  18: 0.6552906210227403,\n",
              "  19: 0.6473068400411708,\n",
              "  20: 0.6396057524505441,\n",
              "  21: 0.6288511295872486,\n",
              "  22: 0.6189674715918642,\n",
              "  23: 0.6098875054979869,\n",
              "  24: 0.60176230094154},\n",
              " 'fitur kelima terbaik': {1: 0.7239019525268657,\n",
              "  2: 0.7442943942128184,\n",
              "  3: 0.7837645486432326,\n",
              "  4: 0.7678678888728443,\n",
              "  5: 0.7441649498484615,\n",
              "  6: 0.7196765643731112,\n",
              "  7: 0.7056519876899406,\n",
              "  8: 0.6926277248688901,\n",
              "  9: 0.6856730678429284,\n",
              "  10: 0.6705910246371138,\n",
              "  11: 0.6687593750560127,\n",
              "  12: 0.6688235584577853,\n",
              "  13: 0.6680352582461228,\n",
              "  14: 0.6545769417546297,\n",
              "  15: 0.6485979387890964,\n",
              "  16: 0.6458688468652154,\n",
              "  17: 0.6448364219252252,\n",
              "  18: 0.6403122111248378,\n",
              "  19: 0.6334654049357136,\n",
              "  20: 0.6267704611305929,\n",
              "  21: 0.6261460595455381,\n",
              "  22: 0.6140607332211931,\n",
              "  23: 0.6092719794009012,\n",
              "  24: 0.6014987895830253},\n",
              " 'fitur ketiga terbaik': {1: 0.7502762075081952,\n",
              "  2: 0.7801494370849638,\n",
              "  3: 0.8031067177436639,\n",
              "  4: 0.8150453018537662,\n",
              "  5: 0.7950901234215013,\n",
              "  6: 0.767664057068149,\n",
              "  7: 0.7478370468005247,\n",
              "  8: 0.7352134144200104,\n",
              "  9: 0.7218387892978412,\n",
              "  10: 0.6997958977724907,\n",
              "  11: 0.6793249383747382,\n",
              "  12: 0.6667211878407904,\n",
              "  13: 0.6685634849449825,\n",
              "  14: 0.6548405775106494,\n",
              "  15: 0.6599383018304887,\n",
              "  16: 0.6416739876610675,\n",
              "  17: 0.6172586177581336,\n",
              "  18: 0.6110995666799766,\n",
              "  19: 0.6091666324564955,\n",
              "  20: 0.5966916677680223,\n",
              "  21: 0.6032805639644376,\n",
              "  22: 0.6022164727373978,\n",
              "  23: 0.6034939632614869,\n",
              "  24: 0.6044042535111211}}"
            ]
          },
          "metadata": {
            "tags": []
          },
          "execution_count": 120
        }
      ]
    },
    {
      "cell_type": "code",
      "metadata": {
        "colab": {
          "base_uri": "https://localhost:8080/",
          "height": 278
        },
        "id": "Aop4aONMTOBH",
        "outputId": "2104a1da-4528-4f65-f1e4-f6ac84cce31f"
      },
      "source": [
        "for k,v in k_r2_results.items():\n",
        "    x = list(v.keys())\n",
        "    y = list(v.values())\n",
        "    \n",
        "    plt.plot(x,y)\n",
        "    plt.xlabel('k value')\n",
        "    plt.ylabel('R2')"
      ],
      "execution_count": null,
      "outputs": [
        {
          "output_type": "display_data",
          "data": {
            "image/png": "[encoded data removed]",
            "text/plain": [
              "<Figure size 432x288 with 1 Axes>"
            ]
          },
          "metadata": {
            "tags": [],
            "needs_background": "light"
          }
        }
      ]
    },
    {
      "cell_type": "markdown",
      "metadata": {
        "id": "tbnUY6k9TSLm"
      },
      "source": [
        "dengan menyimpulkan bahwa model terbaik adlaah hanya dengan memperhitungkan dua fitur terbaik dan menggunakan K=4"
      ]
    },
    {
      "cell_type": "markdown",
      "metadata": {
        "id": "fVamTe81TcHe"
      },
      "source": [
        "disimpulkan bahwa horsepower lah yang mempengaruhi harga mobil tersebut (dikarenakan memberikan hasil 85% akurasi)"
      ]
    },
    {
      "cell_type": "code",
      "metadata": {
        "id": "JjGOfersTxZk"
      },
      "source": [
        ""
      ],
      "execution_count": null,
      "outputs": []
    }
  ]
}